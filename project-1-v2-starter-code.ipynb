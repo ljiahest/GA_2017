{
 "cells": [
  {
   "cell_type": "markdown",
   "metadata": {},
   "source": [
    "<img src=\"http://imgur.com/1ZcRyrc.png\" style=\"float: left; margin: 15px; height: 80px\">\n",
    "\n",
    "# Project 1\n",
    "\n",
    "### Building \"Pokemon Stay\"\n",
    "\n",
    "---\n",
    "You are an analyst at a \"scrappy\" online gaming company that specializes in remakes of last year's fads.\n",
    "\n",
    "Your boss, who runs the product development team, is convinced that Pokemon Go's fatal flaw was that you had to actually move around outside. She has design mock-ups for a new game called Pokemon Stay: in this version players still need to move, but just from website to website. Pokemon gyms are now popular online destinations, and catching Pokemon in the \"wild\" simply requires browsing the internet for hours in the comfort of your home.\n",
    "\n",
    "She wants you to program a prototype version of the game, and analyze the planned content to help the team calibrate the design."
   ]
  },
  {
   "cell_type": "markdown",
   "metadata": {},
   "source": [
    "#### Package imports\n",
    "\n",
    "The pprint package below is the only package imported here, and it's not even strictly required to do any of the project. Printing python variables and objects with pprint can help to format them in a \"prettier\" way."
   ]
  },
  {
   "cell_type": "code",
   "execution_count": 12,
   "metadata": {
    "collapsed": true
   },
   "outputs": [],
   "source": [
    "from pprint import pprint\n",
    "from __future__ import division"
   ]
  },
  {
   "cell_type": "markdown",
   "metadata": {},
   "source": [
    "<img src=\"http://imgur.com/l5NasQj.png\" style=\"float: left; margin: 25px 15px 0px 0px; height: 25px\">\n",
    "\n",
    "## 1. Defining a player\n",
    "\n",
    "---\n",
    "\n",
    "The player variables are:\n",
    "\n",
    "    player_id : id code unique to each player (integer)\n",
    "    player_name : entered name of the player (string)\n",
    "    time_played : number of time played the game in minutes (float)\n",
    "    player_pokemon: the player's captured pokemon (dictionary)\n",
    "    gyms_visited: ids of the gyms that a player has visited (list)\n",
    "    \n",
    "Create the components for a player object by defining each of these variables. The dictionary and list variables should just be defined as empty; you can use any (correctly typed) values for the others."
   ]
  },
  {
   "cell_type": "code",
   "execution_count": 13,
   "metadata": {
    "collapsed": true
   },
   "outputs": [],
   "source": [
    "player_id = 1\n",
    "player_name = 'Grohl'\n",
    "time_played = 123.4\n",
    "player_pokemon = {}\n",
    "gyms_visited = []"
   ]
  },
  {
   "cell_type": "markdown",
   "metadata": {},
   "source": [
    "<img src=\"http://imgur.com/l5NasQj.png\" style=\"float: left; margin: 25px 15px 0px 0px; height: 25px\">\n",
    "\n",
    "## 2. Defining \"gym\" locations\n",
    "\n",
    "---\n",
    "\n",
    "As the sole programmer, Pokemon Stay will have to start small. To begin, there will be 10 different gym location websites on the internet. The gym locations are:\n",
    "\n",
    "    1. 'reddit.com'\n",
    "    2. 'amazon.com'\n",
    "    3. 'twitter.com'\n",
    "    4. 'linkedin.com'\n",
    "    5. 'ebay.com'\n",
    "    6. 'netflix.com'\n",
    "    7. 'sporcle.com'\n",
    "    8. 'stackoverflow.com'\n",
    "    9. 'github.com'\n",
    "    10. 'quora.com'\n",
    "\n",
    "1. Set up a list of all the gym locations. This will be a list of strings.\n",
    "2. Append two of these locations to your player's list of visited gyms.\n",
    "3. Print the list."
   ]
  },
  {
   "cell_type": "code",
   "execution_count": 14,
   "metadata": {},
   "outputs": [
    {
     "name": "stdout",
     "output_type": "stream",
     "text": [
      "\"Gym Visited.. ['reddit.com', 'amazon.com']\"\n",
      "\n",
      "\n",
      "\"Gym Locations.. ['reddit.com', 'amazon.com', 'twitter.com', 'linkedin.com', 'ebay.com', 'netflix.com', 'sporecle.com', 'stackoverflow.com', 'github.com', 'quora.com']\"\n"
     ]
    }
   ],
   "source": [
    "gym_loc = ['reddit.com','amazon.com','twitter.com','linkedin.com','ebay.com','netflix.com',\n",
    "           'sporecle.com','stackoverflow.com','github.com','quora.com']\n",
    "#Append first two items into gyms_visited\n",
    "gyms_visited.extend(gym_loc[:2])\n",
    "pprint('Gym Visited.. {}'.format(gyms_visited))\n",
    "print('\\n')\n",
    "pprint('Gym Locations.. {}'.format(gym_loc))"
   ]
  },
  {
   "cell_type": "markdown",
   "metadata": {},
   "source": [
    "<img src=\"http://imgur.com/l5NasQj.png\" style=\"float: left; margin: 25px 15px 0px 0px; height: 25px\">\n",
    "\n",
    "## 3. Create a pokedex\n",
    "\n",
    "---\n",
    "\n",
    "We also need to create some pokemon to catch. Each pokemon will be defined by these variables:\n",
    "\n",
    "    pokemon_id : unique identifier for each pokemon (integer)\n",
    "    name : the name of the pokemon (string)\n",
    "    type : the category of pokemon (string)\n",
    "    hp : base hitpoints (integer)\n",
    "    attack : base attack (integer)\n",
    "    defense : base defense (integer)\n",
    "    special_attack : base special attack (integer)\n",
    "    special_defense : base sepecial defense (integer)\n",
    "    speed : base speed (integer)\n",
    "\n",
    "We are only going to create 3 different pokemon with these `pokemon_id` and `pokemon_name` values:\n",
    "\n",
    "    1 : 'charmander'\n",
    "    2 : 'squirtle'\n",
    "    3 : 'bulbasaur'\n",
    "\n",
    "Create a dictionary that will contain the pokemon. The keys of the dictionary will be the `pokemon_id` and the values will themselves dictionaries that contain the other pokemon variables. The structure of the pokedex dictionary will start like so:\n",
    "     \n",
    "     {\n",
    "         1: {\n",
    "                 'name':'charmander',\n",
    "                 'type':'fire',\n",
    "                 ...\n",
    "                 \n",
    "The `type` of charmander, squirtle, and bulbasaur should be `'fire'`, `'water'`, and `'poison'` respectively. The other values are up to you, make them anything you like!\n",
    "\n",
    "Print (or pretty print) the pokedex dictionary with the 3 pokemon."
   ]
  },
  {
   "cell_type": "code",
   "execution_count": 15,
   "metadata": {
    "collapsed": true
   },
   "outputs": [],
   "source": [
    "pokedex = {\n",
    "    1: {'pokemon_id': 4,'name': 'charmander', 'type': 'Fire', 'hp': 39, 'attack': 52, 'defense': 43,\n",
    "        'special_attack': 60, 'special_defense': 50, 'speed': 65},\n",
    "    2: {'pokemon_id': 2,'name': 'squirtle', 'type': 'Water', 'hp': 44, 'attack': 48, 'defense': 65,\n",
    "        'special_attack': 50, 'special_defense': 64, 'speed': 43},\n",
    "    3: {'pokemon_id': 1,'name': 'bulbasaur', 'type': 'GrassPoison', 'hp': 45, 'attack': 49, 'defense': 49,\n",
    "        'special_attack': 65, 'special_defense': 65, 'speed': 45}\n",
    "}"
   ]
  },
  {
   "cell_type": "markdown",
   "metadata": {},
   "source": [
    "<img src=\"http://imgur.com/l5NasQj.png\" style=\"float: left; margin: 25px 15px 0px 0px; height: 25px\">\n",
    "\n",
    "## 4. Create a data structure for players\n",
    "\n",
    "---\n",
    "\n",
    "### 4.1 \n",
    "\n",
    "In order to maintain a database of multiple players, create a dictionary that keeps track of players indexed by `player_id`. \n",
    "\n",
    "The keys of the dictionary will be `player_id` and values will be dictionaries containing each player's variables (from question 1). \n",
    "\n",
    "Construct the `players` dictionary and insert the player that you defined in question 1, then print `players`."
   ]
  },
  {
   "cell_type": "code",
   "execution_count": 16,
   "metadata": {},
   "outputs": [
    {
     "name": "stdout",
     "output_type": "stream",
     "text": [
      "{1: {'gyms_visited': ['reddit.com', 'amazon.com'],\n",
      "     'player_name': 'Grohl',\n",
      "     'player_pokemon': {},\n",
      "     'time_played': 123.4}}\n"
     ]
    }
   ],
   "source": [
    "players = {player_id: {'player_name':player_name, 'time_played':time_played,\n",
    "                       'player_pokemon':player_pokemon,'gyms_visited':gyms_visited}}\n",
    "\n",
    "pprint(players)"
   ]
  },
  {
   "cell_type": "markdown",
   "metadata": {},
   "source": [
    "---\n",
    "\n",
    "### 4.2\n",
    "\n",
    "Create a new player with `player_id = 2` in the `players` dictionary. Leave the `'player_pokemon'` dictionary empty. Append `'alcatraz'` and `'pacific_beach'` to the `'gyms_visited'` list for player 2.\n",
    "\n",
    "The `'player_name'` and `'time_played'` values are up to you, but must be a string and float, respectively.\n",
    "\n",
    "Remember, the player_id is the key for the player in the players dictionary.\n",
    "\n",
    "Print the `players` dictionary with the new player inserted."
   ]
  },
  {
   "cell_type": "code",
   "execution_count": 17,
   "metadata": {},
   "outputs": [
    {
     "name": "stdout",
     "output_type": "stream",
     "text": [
      "{1: {'gyms_visited': ['reddit.com', 'amazon.com'],\n",
      "     'player_name': 'Grohl',\n",
      "     'player_pokemon': {},\n",
      "     'time_played': 123.4},\n",
      " 2: {'gyms_visited': ['reddit.com',\n",
      "                      'amazon.com',\n",
      "                      'alcatraz',\n",
      "                      'pacific_beach'],\n",
      "     'player_name': 'Cobain',\n",
      "     'player_pokemon': {},\n",
      "     'time_played': 456.7}}\n"
     ]
    }
   ],
   "source": [
    "player_id=2\n",
    "player_name = 'Cobain'\n",
    "time_played = 456.7\n",
    "player_pokemon = {}\n",
    "gyms_visited_2 = gyms_visited[:]\n",
    "gyms_visited_2.extend(['alcatraz','pacific_beach'])\n",
    "players[player_id] = {'player_name':player_name, 'time_played':time_played,\n",
    "                       'player_pokemon':player_pokemon,'gyms_visited':gyms_visited_2}\n",
    "\n",
    "pprint(players)"
   ]
  },
  {
   "cell_type": "markdown",
   "metadata": {},
   "source": [
    "<img src=\"http://imgur.com/l5NasQj.png\" style=\"float: left; margin: 25px 15px 0px 0px; height: 25px\">\n",
    "\n",
    "## 5. Add captured pokemon for each player\n",
    "\n",
    "---\n",
    "\n",
    "The `'player_pokemon'` keyed dictionaries for each player keep track of which of the pokemon each player has.\n",
    "\n",
    "The keys of the `'player_pokemon'` dictionaries are the pokemon ids that correspond to the ids in the `pokedex` dictionary you created earlier. The values are integers specifying the stats for the pokemon.\n",
    "\n",
    "Give player 1 a squirtle. Give player 2 charmander and a bulbasaur.\n",
    "\n",
    "Print the players dictionary after adding the pokemon for each player.\n"
   ]
  },
  {
   "cell_type": "code",
   "execution_count": 18,
   "metadata": {
    "scrolled": true
   },
   "outputs": [
    {
     "name": "stdout",
     "output_type": "stream",
     "text": [
      "{1: {'gyms_visited': ['reddit.com', 'amazon.com'],\n",
      "     'player_name': 'Grohl',\n",
      "     'player_pokemon': {2: [44, 48, 65, 50, 64, 43]},\n",
      "     'time_played': 123.4},\n",
      " 2: {'gyms_visited': ['reddit.com',\n",
      "                      'amazon.com',\n",
      "                      'alcatraz',\n",
      "                      'pacific_beach'],\n",
      "     'player_name': 'Cobain',\n",
      "     'player_pokemon': {1: [45, 49, 49, 65, 65, 45],\n",
      "                        4: [39, 52, 43, 60, 50, 65]},\n",
      "     'time_played': 456.7}}\n"
     ]
    }
   ],
   "source": [
    "def get_stats(pokedex_dict, poke_id):\n",
    "    \"\"\"\n",
    "    get_stats\n",
    "    \n",
    "    Args:\n",
    "        pokedex_dict: dictionary containing pokemon information\n",
    "        poke_id: unique identifier of pokemon\n",
    "    \n",
    "    Return:\n",
    "        list of hp,attack, defence, special attack, special defense, speed \n",
    "    \"\"\"\n",
    "    return {pokedex_dict[poke_id]['pokemon_id']: [pokedex_dict[poke_id]['hp'], pokedex_dict[poke_id]['attack'], \\\n",
    "            pokedex_dict[poke_id]['defense'], pokedex_dict[poke_id]['special_attack'], \\\n",
    "            pokedex_dict[poke_id]['special_defense'], pokedex_dict[poke_id]['speed']]}\n",
    "\n",
    "#Give player 1 squirtle\n",
    "players[1]['player_pokemon'].update(get_stats(pokedex, 2))\n",
    "\n",
    "#Give player2 charmander and bulbasaur\n",
    "players[2]['player_pokemon'].update(get_stats(pokedex,1))\n",
    "players[2]['player_pokemon'].update(get_stats(pokedex,3))\n",
    "pprint(players)"
   ]
  },
  {
   "cell_type": "markdown",
   "metadata": {},
   "source": [
    "\n",
    "\n",
    "## 6. What gyms have players visited?\n",
    "\n",
    "---\n",
    "<img src=\"http://imgur.com/l5NasQj.png\" style=\"float: left; margin: 25px 15px 0px 0px; height: 25px\">\n",
    "### 6.1\n",
    "\n",
    "Write a for-loop that:\n",
    "\n",
    "1. Iterates through the `pokemon_gyms` list of gym locations you defined before.\n",
    "2. For each gym, iterate through each player in the `players` dictionary with a second, internal for-loop.\n",
    "3. If the player has visited the gym, print out \"[player] has visited [gym location].\", filling in [player] and [gym location] with the current player's name and current gym location."
   ]
  },
  {
   "cell_type": "code",
   "execution_count": 19,
   "metadata": {},
   "outputs": [
    {
     "name": "stdout",
     "output_type": "stream",
     "text": [
      "Grohl has visited reddit.com\n",
      "Cobain has visited reddit.com\n",
      "Grohl has visited amazon.com\n",
      "Cobain has visited amazon.com\n",
      "The loop has run for 20 times\n"
     ]
    }
   ],
   "source": [
    "i=0\n",
    "#Loop through all the gyms in gym locations and compare with gym_visited key in player dictionary\n",
    "for gym in gym_loc:\n",
    "    for player_val in players.values():\n",
    "        i+=1\n",
    "        if gym in player_val['gyms_visited']:\n",
    "            print ('{} has visited {}'.format(player_val['player_name'],gym))\n",
    "            \n",
    "print ('The loop has run for {} times'.format(i))"
   ]
  },
  {
   "cell_type": "code",
   "execution_count": 20,
   "metadata": {},
   "outputs": [
    {
     "data": {
      "text/plain": [
       "0"
      ]
     },
     "execution_count": 20,
     "metadata": {},
     "output_type": "execute_result"
    }
   ],
   "source": [
    "player_val['gyms_visited'].count('reddit.com ')"
   ]
  },
  {
   "cell_type": "markdown",
   "metadata": {},
   "source": [
    "<img src=\"http://imgur.com/xDpSobf.png\" style=\"float: left; margin: 25px 15px 0px 0px; height: 25px\">\n",
    "### 6.2\n",
    "\n",
    "How many times did that loop run? If you have N gyms and also N players, how many times would it run as a function of N?\n",
    "\n",
    "Can you think of a more efficient way to accomplish the same thing? \n",
    "\n",
    "(You can write your answer as Markdown text.)"
   ]
  },
  {
   "cell_type": "markdown",
   "metadata": {
    "collapsed": true
   },
   "source": [
    "20 loops\n",
    "\n",
    "Number of loops = Number of gym X Number of players\n",
    "\n",
    "Efficient ways:\n",
    "Turn both into np array, use np.in1d"
   ]
  },
  {
   "cell_type": "markdown",
   "metadata": {},
   "source": [
    "<img src=\"http://imgur.com/l5NasQj.png\" style=\"float: left; margin: 25px 15px 0px 0px; height: 25px\">\n",
    "\n",
    "## 7. Calculate player \"power\".\n",
    "\n",
    "---\n",
    "\n",
    "Define a function that will calculate a player's \"power\". Player power is defined as the sum of the base statistics all of their pokemon.\n",
    "\n",
    "Your function will:\n",
    "\n",
    "1. Accept the `players` dictionary, `pokedex` dictionary, and a player_id as arguments.\n",
    "2. For the specified player_id, look up that player's pokemon and their level(s).\n",
    "3. Find and aggregate the attack and defense values for each of the player's pokemon from the `pokedex` dictionary.\n",
    "4. Print \"[player name]'s power is [player power].\", where the player power is the sum of the base statistics for all of their pokemon.\n",
    "5. Return the player's power value.\n",
    "\n",
    "Print out the pokemon power for each of your players."
   ]
  },
  {
   "cell_type": "code",
   "execution_count": 21,
   "metadata": {},
   "outputs": [
    {
     "name": "stdout",
     "output_type": "stream",
     "text": [
      "\"Grohl's squirtle has power of 314\"\n",
      "\"Cobain's bulbasaur has power of 318\"\n",
      "\"Cobain's charmander has power of 309\"\n"
     ]
    },
    {
     "data": {
      "text/plain": [
       "[318, 309]"
      ]
     },
     "execution_count": 21,
     "metadata": {},
     "output_type": "execute_result"
    }
   ],
   "source": [
    "def player_power(player_dict,pokedex_dict,player_id):\n",
    "    \"\"\"\n",
    "    player_power\n",
    "    \n",
    "    Args:\n",
    "        player_dict (dict): player info\n",
    "        pokedex_dict (dict): pokemon info\n",
    "        player_id (int): unique identifier of player\n",
    "    \n",
    "    Return:\n",
    "        (int) list of sum of pokemon power\n",
    "    \n",
    "    \"\"\"\n",
    "    poke_power_list = []\n",
    "    #Make sure that player id is in player dictionary, else raise ValueError\n",
    "    if player_dict.get(player_id) != None:\n",
    "        for poke_id, poke_power in player_dict[player_id]['player_pokemon'].items():\n",
    "            for poke_val in pokedex_dict.values():\n",
    "                if poke_id == poke_val['pokemon_id']:\n",
    "                    power_sum = sum(poke_power)\n",
    "                    pprint (\"{}'s {} has power of {}\".format(player_dict[player_id]['player_name'], \\\n",
    "                                                            poke_val['name'], power_sum))\n",
    "                    poke_power_list.append(power_sum)\n",
    "    else:\n",
    "        raise ValueError ('Player ID {} is not found in player dictionary'.format(player_id))\n",
    "    return poke_power_list\n",
    "\n",
    "player_power(players,pokedex,1)\n",
    "player_power(players,pokedex,2)"
   ]
  },
  {
   "cell_type": "code",
   "execution_count": 23,
   "metadata": {},
   "outputs": [
    {
     "ename": "ValueError",
     "evalue": "Player ID 3 is not found in player dictionary",
     "output_type": "error",
     "traceback": [
      "\u001b[1;31m---------------------------------------------------------------------------\u001b[0m",
      "\u001b[1;31mValueError\u001b[0m                                Traceback (most recent call last)",
      "\u001b[1;32m<ipython-input-23-52d06d7c6780>\u001b[0m in \u001b[0;36m<module>\u001b[1;34m()\u001b[0m\n\u001b[1;32m----> 1\u001b[1;33m \u001b[0mplayer_power\u001b[0m\u001b[1;33m(\u001b[0m\u001b[0mplayers\u001b[0m\u001b[1;33m,\u001b[0m\u001b[0mpokedex\u001b[0m\u001b[1;33m,\u001b[0m\u001b[1;36m3\u001b[0m\u001b[1;33m)\u001b[0m\u001b[1;33m\u001b[0m\u001b[0m\n\u001b[0m",
      "\u001b[1;32m<ipython-input-21-c39cbd0661d4>\u001b[0m in \u001b[0;36mplayer_power\u001b[1;34m(player_dict, pokedex_dict, player_id)\u001b[0m\n\u001b[0;32m     22\u001b[0m                     \u001b[0mpoke_power_list\u001b[0m\u001b[1;33m.\u001b[0m\u001b[0mappend\u001b[0m\u001b[1;33m(\u001b[0m\u001b[0mpower_sum\u001b[0m\u001b[1;33m)\u001b[0m\u001b[1;33m\u001b[0m\u001b[0m\n\u001b[0;32m     23\u001b[0m     \u001b[1;32melse\u001b[0m\u001b[1;33m:\u001b[0m\u001b[1;33m\u001b[0m\u001b[0m\n\u001b[1;32m---> 24\u001b[1;33m         \u001b[1;32mraise\u001b[0m \u001b[0mValueError\u001b[0m \u001b[1;33m(\u001b[0m\u001b[1;34m'Player ID {} is not found in player dictionary'\u001b[0m\u001b[1;33m.\u001b[0m\u001b[0mformat\u001b[0m\u001b[1;33m(\u001b[0m\u001b[0mplayer_id\u001b[0m\u001b[1;33m)\u001b[0m\u001b[1;33m)\u001b[0m\u001b[1;33m\u001b[0m\u001b[0m\n\u001b[0m\u001b[0;32m     25\u001b[0m     \u001b[1;32mreturn\u001b[0m \u001b[0mpoke_power_list\u001b[0m\u001b[1;33m\u001b[0m\u001b[0m\n\u001b[0;32m     26\u001b[0m \u001b[1;33m\u001b[0m\u001b[0m\n",
      "\u001b[1;31mValueError\u001b[0m: Player ID 3 is not found in player dictionary"
     ]
    }
   ],
   "source": [
    "player_power(players,pokedex,3)"
   ]
  },
  {
   "cell_type": "markdown",
   "metadata": {
    "collapsed": true
   },
   "source": [
    "<img src=\"http://imgur.com/l5NasQj.png\" style=\"float: left; margin: 25px 15px 0px 0px; height: 25px\">\n",
    "\n",
    "## 8. Load a pokedex file containing all the pokemon\n",
    "\n",
    "---\n",
    "\n",
    "### 8.1\n",
    "\n",
    "While you were putting together the prototype code, your colleagues were preparing a dataset of Pokemon and their attributes. (This was a rush job, so they may have picked some crazy values for some...)\n",
    "\n",
    "The code below loads information from a comma separated value (csv) file. You need to parse this string into a more useable format. The format of the string is:\n",
    "\n",
    "- Rows are separated by newline characters: \\n\n",
    "- Columns are separated by commas: ,\n",
    "- All cells in the csv are double quoted. Ex: \"PokedexNumber\" is the first cell of the first row.\n",
    "\n",
    "\n",
    "Using for-loops, create a list of lists where each list within the overall list is a row of the csv/matrix, and each element in that list is a cell in that row. Additional criteria:\n",
    "\n",
    "1. Quotes are removed from each cell item.\n",
    "2. Numeric column values are converted to floats.\n",
    "3. There are some cells that are empty and have no information. For these cells put a -1 value in place.\n",
    "\n",
    "Your end result is effectively a matrix. Each list in the outer list is a row, and the *j*th elements of list together form the *j*th column, which represents a data attribute. The first three lists in your pokedex list should look like this:\n",
    "\n",
    "    ['PokedexNumber', 'Name', 'Type', 'Total', 'HP', 'Attack', 'Defense', 'SpecialAttack', 'SpecialDefense', 'Speed']\n",
    "    [1.0, 'Bulbasaur', 'GrassPoison', 318.0, 45.0, 49.0, 49.0, 65.0, 65.0, 45.0]\n",
    "    [2.0, 'Ivysaur', 'GrassPoison', 405.0, 60.0, 62.0, 63.0, 80.0, 80.0, 60.0]"
   ]
  },
  {
   "cell_type": "code",
   "execution_count": 24,
   "metadata": {
    "collapsed": true
   },
   "outputs": [],
   "source": [
    "# Code to read in pokedex info\n",
    "raw_pd = ''\n",
    "pokedex_file = 'pokedex_basic.csv'\n",
    "with open(pokedex_file, 'r') as f:\n",
    "    raw_pd = f.read()\n",
    "    \n",
    "# the pokedex string is assigned to the raw_pd variable"
   ]
  },
  {
   "cell_type": "code",
   "execution_count": 25,
   "metadata": {},
   "outputs": [
    {
     "data": {
      "text/plain": [
       "[['PokedexNumber',\n",
       "  'Name',\n",
       "  'Type',\n",
       "  'Total',\n",
       "  'HP',\n",
       "  'Attack',\n",
       "  'Defense',\n",
       "  'SpecialAttack',\n",
       "  'SpecialDefense',\n",
       "  'Speed'],\n",
       " [1.0, 'Bulbasaur', 'GrassPoison', 318.0, 45.0, 49.0, 49.0, 65.0, 65.0, 45.0],\n",
       " [2.0, 'Ivysaur', 'GrassPoison', 405.0, 60.0, 62.0, 63.0, 80.0, 80.0, 60.0],\n",
       " [3.0, 'Venusaur', 'GrassPoison', 525.0, 80.0, 82.0, 83.0, 100.0, 100.0, 80.0],\n",
       " [3.0,\n",
       "  'VenusaurMega Venusaur',\n",
       "  'GrassPoison',\n",
       "  625.0,\n",
       "  80.0,\n",
       "  100.0,\n",
       "  123.0,\n",
       "  122.0,\n",
       "  120.0,\n",
       "  80.0]]"
      ]
     },
     "execution_count": 25,
     "metadata": {},
     "output_type": "execute_result"
    }
   ],
   "source": [
    "raw_pokemon_list = []\n",
    "for row in raw_pd.split('\\n'):\n",
    "    raw_pokemon_row = []\n",
    "    for row_val in row.split(','):\n",
    "        val = row_val.replace('\"', '', 2)\n",
    "        try:\n",
    "            raw_pokemon_row.append(float(val))\n",
    "        except:\n",
    "            #This case is for empty string, if it is an empty list, make value -1\n",
    "            if row_val == '':\n",
    "                raw_pokemon_row.append(-1)\n",
    "            else:\n",
    "                raw_pokemon_row.append(val)\n",
    "    raw_pokemon_list.append(raw_pokemon_row)\n",
    "raw_pokemon_list[:5]"
   ]
  },
  {
   "cell_type": "markdown",
   "metadata": {},
   "source": [
    "<img src=\"http://imgur.com/xDpSobf.png\" style=\"float: left; margin: 25px 15px 0px 0px; height: 25px\">\n",
    "\n",
    "### 8.2 Parse the raw pokedex with list comprehensions\n",
    "\n",
    "---\n",
    "\n",
    "Perform the same parsing as above, but **using only a single list comprehension** instead of for loops. You may have nested list comprehensions within the main list comprehension! The output should be exactly the same."
   ]
  },
  {
   "cell_type": "code",
   "execution_count": 26,
   "metadata": {},
   "outputs": [
    {
     "data": {
      "text/plain": [
       "[['PokedexNumber',\n",
       "  'Name',\n",
       "  'Type',\n",
       "  'Total',\n",
       "  'HP',\n",
       "  'Attack',\n",
       "  'Defense',\n",
       "  'SpecialAttack',\n",
       "  'SpecialDefense',\n",
       "  'Speed'],\n",
       " [1.0, 'Bulbasaur', 'GrassPoison', 318.0, 45.0, 49.0, 49.0, 65.0, 65.0, 45.0],\n",
       " [2.0, 'Ivysaur', 'GrassPoison', 405.0, 60.0, 62.0, 63.0, 80.0, 80.0, 60.0],\n",
       " [3.0, 'Venusaur', 'GrassPoison', 525.0, 80.0, 82.0, 83.0, 100.0, 100.0, 80.0],\n",
       " [3.0,\n",
       "  'VenusaurMega Venusaur',\n",
       "  'GrassPoison',\n",
       "  625.0,\n",
       "  80.0,\n",
       "  100.0,\n",
       "  123.0,\n",
       "  122.0,\n",
       "  120.0,\n",
       "  80.0]]"
      ]
     },
     "execution_count": 26,
     "metadata": {},
     "output_type": "execute_result"
    }
   ],
   "source": [
    "#parse_string lambda function split the delimter ',' and replace the \" double quote mark\n",
    "parse_string = lambda x: x.split(',')[0].replace('\"','',2)\n",
    "\n",
    "def is_float(st):\n",
    "    \"\"\"\n",
    "    isfloat\n",
    "    \n",
    "    Args:\n",
    "        st (str): determine if st is float\n",
    "    Return:\n",
    "        value: float(st) if st is float, -1 if st is empty and False if st is a string\n",
    "    \"\"\"\n",
    "    parsed_str=parse_string(st)\n",
    "    try:\n",
    "        return float(parsed_str)\n",
    "    except:\n",
    "        if parsed_str == \"\":\n",
    "            return -1\n",
    "        else:\n",
    "            return False\n",
    "\n",
    "raw_pokemon_list_com = [[parse_string(row_val) if is_float(row_val)==0 else is_float(row_val) for row_val in row.split(',')] for row in raw_pd.split('\\n')]\n",
    "raw_pokemon_list_com[:5]"
   ]
  },
  {
   "cell_type": "code",
   "execution_count": 27,
   "metadata": {},
   "outputs": [
    {
     "name": "stdout",
     "output_type": "stream",
     "text": [
      "Is List Comprehension same as for loop result? \n",
      "True\n"
     ]
    }
   ],
   "source": [
    "print ('Is List Comprehension same as for loop result? \\n{}'.format(raw_pokemon_list == raw_pokemon_list_com))"
   ]
  },
  {
   "cell_type": "markdown",
   "metadata": {},
   "source": [
    "<img src=\"http://imgur.com/l5NasQj.png\" style=\"float: left; margin: 25px 15px 0px 0px; height: 25px\">\n",
    "\n",
    "## 9. Write a function to generate the full pokedex\n",
    "\n",
    "---\n",
    "\n",
    "Write a function that recreates the pokedex you made before, but with the data read in from the full pokemon file. The `PokedexNumber` should be used as the `pokemon_id` key values for the dictionary of pokemon.\n",
    "\n",
    "Your function should:\n",
    "\n",
    "1. Take the parsed pokedex information you created above as an argument.\n",
    "2. Return a dictionary in the same format as your original pokedex you created before containing the information from the parsed full pokedex file.\n",
    "\n",
    "To test the function, print out the pokemon with id = 100."
   ]
  },
  {
   "cell_type": "code",
   "execution_count": 28,
   "metadata": {
    "scrolled": true
   },
   "outputs": [
    {
     "name": "stdout",
     "output_type": "stream",
     "text": [
      "Pokemon 100 is Haunter with stats.. \n",
      " {'Attack': 50.0, 'Defense': 45.0, 'PokedexNumber': 93.0, 'Name': 'Haunter', 'SpecialAttack': 115.0, 'HP': 45.0, 'Total': 405.0, 'Type': 'GhostPoison', 'Speed': 95.0, 'SpecialDefense': 55.0}\n"
     ]
    }
   ],
   "source": [
    "def gen_pokedex(parsed_poke_info):\n",
    "    \"\"\"\n",
    "    gen_pokedex\n",
    "    \n",
    "    Args:\n",
    "        parsed_poke_info(list) parsed information retrieved from csv\n",
    "    \n",
    "    Return:\n",
    "        (dict) pokedex information\n",
    "    \"\"\"\n",
    "    \n",
    "    header=parsed_poke_info[0]\n",
    "    data = parsed_poke_info[1:]\n",
    "    poke_info = {}\n",
    "    for idx, dat in enumerate(data):\n",
    "        poke_dat = {header[0]:dat[0], \\\n",
    "                    header[1]:dat[1], \\\n",
    "                    header[2]:dat[2], \\\n",
    "                    header[3]:dat[3], \\\n",
    "                    header[4]:dat[4], \\\n",
    "                    header[5]:dat[5], \\\n",
    "                    header[6]:dat[6], \\\n",
    "                    header[7]:dat[7], \\\n",
    "                    header[8]:dat[8], \\\n",
    "                    header[9]:dat[9]\n",
    "                   }\n",
    "        poke_info.update({idx: poke_dat})\n",
    "    return poke_info\n",
    "parsed_poke_info = gen_pokedex(raw_pokemon_list_com)\n",
    "\n",
    "print ('Pokemon 100 is {} with stats.. \\n {}'.format(parsed_poke_info[100]['Name'],parsed_poke_info[100]))"
   ]
  },
  {
   "cell_type": "markdown",
   "metadata": {},
   "source": [
    "<img src=\"http://i.imgur.com/GCAf1UX.png\" style=\"float: left; margin: 25px 15px 0px 0px; height: 25px\">\n",
    "\n",
    "## 10. Write a function to generate a \"filtered\" pokedex\n",
    "---\n",
    "Your function should:\n",
    "1. Take the parsed pokedex information you created above as an argument.\n",
    "1. Take a dictionary as a parameter with keys matching the features of the Pokedex, filtering by exact match for string type values, and/or filter continuous variables specified value that is greater than or equal to the dictionary key parameter.\n",
    "1. Return multiple elements from the Pokedex\n",
    "\n",
    "Example:\n",
    "\n",
    "```python\n",
    "\n",
    "# Only filter based on parameters passed\n",
    "filter_options = {\n",
    "    'Attack':   25,\n",
    "    'Defense':  30,\n",
    "    'Type':     'Electric'\n",
    "}\n",
    "\n",
    "# Return records with attack >= 24, defense >= 30, and type == \"Electric\"\n",
    "# Also anticipate that other paramters can also be passed such as \"SpecialAttack\", \"Speed\", etc.\n",
    "filtered_pokedex(pokedex_data, filter=filter_options)\n",
    "\n",
    "# Example output:\n",
    "# [{'Attack': 30.0,\n",
    "#  'Defense': 50.0,\n",
    "#  'HP': 40.0,\n",
    "#  'Name': 'Voltorb',\n",
    "#  'SpecialAttack': 55.0,\n",
    "#  'SpecialDefense': 55.0,\n",
    "#  'Speed': 100.0,\n",
    "#  'Total': 330.0,\n",
    "#  'Type': 'Electric'},\n",
    "#  {'Attack': 30.0,\n",
    "#  'Defense': 33.0,\n",
    "#  'HP': 32.0,\n",
    "#  'Name': 'Pikachu',\n",
    "#  'SpecialAttack': 55.0,\n",
    "#  'SpecialDefense': 55.0,\n",
    "#  'Speed': 100.0,\n",
    "#  'Total': 330.0,\n",
    "#  'Type': 'Electric'},\n",
    "#  ... etc\n",
    "#  ]\n",
    "\n",
    "```\n",
    "\n"
   ]
  },
  {
   "cell_type": "code",
   "execution_count": 29,
   "metadata": {
    "collapsed": true
   },
   "outputs": [],
   "source": [
    "def filter_pokedex(parsed_pokedex,filter_ops, op='=='):\n",
    "    \"\"\"\n",
    "    filter_pokedex\n",
    "    Args:\n",
    "        parsed_pokedex(dict): dictionary of pokedex info\n",
    "        filter_ops(dict): dictionary containing filter options\n",
    "        op(string): operation, either '==' or '>='\n",
    "    Returns:\n",
    "        (list) list of dictionary that containing information of pokemon\n",
    "        that meet the filter criterias\n",
    "    \"\"\"\n",
    "    filter_poke_info = []\n",
    "    for poke in parsed_pokedex.values():\n",
    "        #Set a flag, flag becomes false once any filter option not met\n",
    "        flag = True\n",
    "        for fil_key, fil_val in filter_ops.items():\n",
    "            #print (poke[fil_key], fil_val, fil_key)\n",
    "            if poke.get(fil_key) != None:\n",
    "                #case for ==, >=, else raise ValueError\n",
    "                if op == '==':\n",
    "                    if (poke[fil_key]!= fil_val):\n",
    "                        flag=False\n",
    "                elif op == '>=':\n",
    "                    if fil_key == 'Type':\n",
    "                        if poke['Type'] != fil_val:\n",
    "                            flag=False\n",
    "                    elif (poke[fil_key] < fil_val):\n",
    "                        flag=False\n",
    "                else:\n",
    "                    raise ValueError ('{} is an unknown Operation'.format(op))\n",
    "            else:\n",
    "                raise ValueError('{} is an incorrect stats'.format(fil_key))\n",
    "        if flag:\n",
    "            filter_poke_info.append(poke)\n",
    "            \n",
    "    print filter_poke_info"
   ]
  },
  {
   "cell_type": "markdown",
   "metadata": {},
   "source": [
    "# Test Case #1:\n",
    "* Attack is equal to 49\n",
    "* Defense is equal to 49\n",
    "* Type is GrassPoision\n",
    "\n",
    "# Expected Result:\n",
    "![Test Case 1](https://github.com/ljiahest/GA_2017/blob/master/testcase1.JPG)"
   ]
  },
  {
   "cell_type": "code",
   "execution_count": 30,
   "metadata": {},
   "outputs": [
    {
     "name": "stdout",
     "output_type": "stream",
     "text": [
      "[{'Attack': 49.0, 'Defense': 49.0, 'PokedexNumber': 1.0, 'Name': 'Bulbasaur', 'SpecialAttack': 65.0, 'HP': 45.0, 'Total': 318.0, 'Type': 'GrassPoison', 'Speed': 45.0, 'SpecialDefense': 65.0}]\n"
     ]
    }
   ],
   "source": [
    "filter_options = {\n",
    "    'Attack':   49,\n",
    "    'Defense':  49,\n",
    "    'Type':     'GrassPoison',\n",
    "}\n",
    "\n",
    "filter_pokedex(parsed_poke_info,filter_options)"
   ]
  },
  {
   "cell_type": "markdown",
   "metadata": {},
   "source": [
    "# Test Case #2:\n",
    "* Attack is greater or equal to 100\n",
    "* Defense is greater or equal to 100\n",
    "* Type is GrassPoision\n",
    "\n",
    "# Expected Result:\n",
    "![Test Case 2](https://github.com/ljiahest/GA_2017/blob/master/testcase2.JPG)"
   ]
  },
  {
   "cell_type": "code",
   "execution_count": 31,
   "metadata": {},
   "outputs": [
    {
     "name": "stdout",
     "output_type": "stream",
     "text": [
      "[{'Attack': 100.0, 'Defense': 123.0, 'PokedexNumber': 3.0, 'Name': 'VenusaurMega Venusaur', 'SpecialAttack': 122.0, 'HP': 80.0, 'Total': 625.0, 'Type': 'GrassPoison', 'Speed': 80.0, 'SpecialDefense': 120.0}]\n"
     ]
    }
   ],
   "source": [
    "filter_options = {\n",
    "    'Attack':   100,\n",
    "    'Defense':  100,\n",
    "    'Type':     'GrassPoison',\n",
    "\n",
    "}\n",
    "\n",
    "filter_pokedex(parsed_poke_info,filter_options, '>=')"
   ]
  },
  {
   "cell_type": "markdown",
   "metadata": {},
   "source": [
    "# Test Case #3:\n",
    "* Special Attack is equal to 50\n",
    "* Special Defense is equal to 50\n",
    "* Type is Electric\n",
    "\n",
    "# Expected Result:\n",
    "![Test Case 3](https://github.com/ljiahest/GA_2017/blob/master/testcase3.JPG)"
   ]
  },
  {
   "cell_type": "code",
   "execution_count": 32,
   "metadata": {},
   "outputs": [
    {
     "name": "stdout",
     "output_type": "stream",
     "text": [
      "[{'Attack': 55.0, 'Defense': 40.0, 'PokedexNumber': 25.0, 'Name': 'Pikachu', 'SpecialAttack': 50.0, 'HP': 35.0, 'Total': 320.0, 'Type': 'Electric', 'Speed': 90.0, 'SpecialDefense': 50.0}]\n"
     ]
    }
   ],
   "source": [
    "filter_options = {\n",
    "    'SpecialAttack':   50,\n",
    "    'SpecialDefense':  50,\n",
    "    'Type':     'Electric',\n",
    "\n",
    "}\n",
    "\n",
    "filter_pokedex(parsed_poke_info,filter_options)"
   ]
  },
  {
   "cell_type": "markdown",
   "metadata": {},
   "source": [
    "# Test Case #4:\n",
    "* Magic Attack is equal to 100\n",
    "* Type is GrassPoision\n",
    "\n",
    "# Expected Result:\n",
    "Error"
   ]
  },
  {
   "cell_type": "code",
   "execution_count": 33,
   "metadata": {},
   "outputs": [
    {
     "ename": "ValueError",
     "evalue": "Magic Attack is an incorrect stats",
     "output_type": "error",
     "traceback": [
      "\u001b[1;31m---------------------------------------------------------------------------\u001b[0m",
      "\u001b[1;31mValueError\u001b[0m                                Traceback (most recent call last)",
      "\u001b[1;32m<ipython-input-33-6c3d583d0ad7>\u001b[0m in \u001b[0;36m<module>\u001b[1;34m()\u001b[0m\n\u001b[0;32m      5\u001b[0m }\n\u001b[0;32m      6\u001b[0m \u001b[1;33m\u001b[0m\u001b[0m\n\u001b[1;32m----> 7\u001b[1;33m \u001b[0mfilter_pokedex\u001b[0m\u001b[1;33m(\u001b[0m\u001b[0mparsed_poke_info\u001b[0m\u001b[1;33m,\u001b[0m\u001b[0mfilter_options\u001b[0m\u001b[1;33m)\u001b[0m\u001b[1;33m\u001b[0m\u001b[0m\n\u001b[0m",
      "\u001b[1;32m<ipython-input-29-c0ec6d0d3df4>\u001b[0m in \u001b[0;36mfilter_pokedex\u001b[1;34m(parsed_pokedex, filter_ops, op)\u001b[0m\n\u001b[0;32m     30\u001b[0m                     \u001b[1;32mraise\u001b[0m \u001b[0mValueError\u001b[0m \u001b[1;33m(\u001b[0m\u001b[1;34m'{} is an unknown Operation'\u001b[0m\u001b[1;33m.\u001b[0m\u001b[0mformat\u001b[0m\u001b[1;33m(\u001b[0m\u001b[0mop\u001b[0m\u001b[1;33m)\u001b[0m\u001b[1;33m)\u001b[0m\u001b[1;33m\u001b[0m\u001b[0m\n\u001b[0;32m     31\u001b[0m             \u001b[1;32melse\u001b[0m\u001b[1;33m:\u001b[0m\u001b[1;33m\u001b[0m\u001b[0m\n\u001b[1;32m---> 32\u001b[1;33m                 \u001b[1;32mraise\u001b[0m \u001b[0mValueError\u001b[0m\u001b[1;33m(\u001b[0m\u001b[1;34m'{} is an incorrect stats'\u001b[0m\u001b[1;33m.\u001b[0m\u001b[0mformat\u001b[0m\u001b[1;33m(\u001b[0m\u001b[0mfil_key\u001b[0m\u001b[1;33m)\u001b[0m\u001b[1;33m)\u001b[0m\u001b[1;33m\u001b[0m\u001b[0m\n\u001b[0m\u001b[0;32m     33\u001b[0m         \u001b[1;32mif\u001b[0m \u001b[0mflag\u001b[0m\u001b[1;33m:\u001b[0m\u001b[1;33m\u001b[0m\u001b[0m\n\u001b[0;32m     34\u001b[0m             \u001b[0mfilter_poke_info\u001b[0m\u001b[1;33m.\u001b[0m\u001b[0mappend\u001b[0m\u001b[1;33m(\u001b[0m\u001b[0mpoke\u001b[0m\u001b[1;33m)\u001b[0m\u001b[1;33m\u001b[0m\u001b[0m\n",
      "\u001b[1;31mValueError\u001b[0m: Magic Attack is an incorrect stats"
     ]
    }
   ],
   "source": [
    "filter_options = {\n",
    "    'Magic Attack':   100,\n",
    "    'Type':     'Fire',\n",
    "\n",
    "}\n",
    "\n",
    "filter_pokedex(parsed_poke_info,filter_options)"
   ]
  },
  {
   "cell_type": "markdown",
   "metadata": {},
   "source": [
    "# Test Case #5:\n",
    "* Attack is lesser or equal to 100\n",
    "* Type is Bug\n",
    "\n",
    "# Expected Result:\n",
    "Error"
   ]
  },
  {
   "cell_type": "code",
   "execution_count": 34,
   "metadata": {},
   "outputs": [
    {
     "ename": "ValueError",
     "evalue": "<= is an unknown Operation",
     "output_type": "error",
     "traceback": [
      "\u001b[1;31m---------------------------------------------------------------------------\u001b[0m",
      "\u001b[1;31mValueError\u001b[0m                                Traceback (most recent call last)",
      "\u001b[1;32m<ipython-input-34-c8f7ddf43361>\u001b[0m in \u001b[0;36m<module>\u001b[1;34m()\u001b[0m\n\u001b[0;32m      5\u001b[0m }\n\u001b[0;32m      6\u001b[0m \u001b[1;33m\u001b[0m\u001b[0m\n\u001b[1;32m----> 7\u001b[1;33m \u001b[0mfilter_pokedex\u001b[0m\u001b[1;33m(\u001b[0m\u001b[0mparsed_poke_info\u001b[0m\u001b[1;33m,\u001b[0m\u001b[0mfilter_options\u001b[0m\u001b[1;33m,\u001b[0m \u001b[1;34m'<='\u001b[0m\u001b[1;33m)\u001b[0m\u001b[1;33m\u001b[0m\u001b[0m\n\u001b[0m",
      "\u001b[1;32m<ipython-input-29-c0ec6d0d3df4>\u001b[0m in \u001b[0;36mfilter_pokedex\u001b[1;34m(parsed_pokedex, filter_ops, op)\u001b[0m\n\u001b[0;32m     28\u001b[0m                         \u001b[0mflag\u001b[0m\u001b[1;33m=\u001b[0m\u001b[0mFalse\u001b[0m\u001b[1;33m\u001b[0m\u001b[0m\n\u001b[0;32m     29\u001b[0m                 \u001b[1;32melse\u001b[0m\u001b[1;33m:\u001b[0m\u001b[1;33m\u001b[0m\u001b[0m\n\u001b[1;32m---> 30\u001b[1;33m                     \u001b[1;32mraise\u001b[0m \u001b[0mValueError\u001b[0m \u001b[1;33m(\u001b[0m\u001b[1;34m'{} is an unknown Operation'\u001b[0m\u001b[1;33m.\u001b[0m\u001b[0mformat\u001b[0m\u001b[1;33m(\u001b[0m\u001b[0mop\u001b[0m\u001b[1;33m)\u001b[0m\u001b[1;33m)\u001b[0m\u001b[1;33m\u001b[0m\u001b[0m\n\u001b[0m\u001b[0;32m     31\u001b[0m             \u001b[1;32melse\u001b[0m\u001b[1;33m:\u001b[0m\u001b[1;33m\u001b[0m\u001b[0m\n\u001b[0;32m     32\u001b[0m                 \u001b[1;32mraise\u001b[0m \u001b[0mValueError\u001b[0m\u001b[1;33m(\u001b[0m\u001b[1;34m'{} is an incorrect stats'\u001b[0m\u001b[1;33m.\u001b[0m\u001b[0mformat\u001b[0m\u001b[1;33m(\u001b[0m\u001b[0mfil_key\u001b[0m\u001b[1;33m)\u001b[0m\u001b[1;33m)\u001b[0m\u001b[1;33m\u001b[0m\u001b[0m\n",
      "\u001b[1;31mValueError\u001b[0m: <= is an unknown Operation"
     ]
    }
   ],
   "source": [
    "filter_options = {\n",
    "    'Attack':   100,\n",
    "    'Type':     'Bug',\n",
    "\n",
    "}\n",
    "\n",
    "filter_pokedex(parsed_poke_info,filter_options, '<=')"
   ]
  },
  {
   "cell_type": "markdown",
   "metadata": {
    "collapsed": true
   },
   "source": [
    "\n",
    "## 9. Descriptive statistics on the prototype pokedex\n",
    "\n",
    "<img src=\"http://imgur.com/l5NasQj.png\" style=\"float: left; margin: 25px 15px 0px 0px; height: 25px\">\n",
    "### 9.1\n",
    "\n",
    "What is the population mean and standard deviation of the \"Total\" attribute for all characters in the Pokedex?\n",
    "\n"
   ]
  },
  {
   "cell_type": "code",
   "execution_count": 35,
   "metadata": {},
   "outputs": [
    {
     "name": "stdout",
     "output_type": "stream",
     "text": [
      "Mean is 435.1275, Standard Deviation is 120.037066631\n"
     ]
    }
   ],
   "source": [
    "mean = sum([sum([v if k=='Total' else 0 for k,v in dicte.items()]) for dicte in parsed_poke_info.values()])/len(parsed_poke_info)\n",
    "\n",
    "std = (sum([sum([(v - mean)**2 if k=='Total' else 0 for k,v in dicte.items()]) for dicte in parsed_poke_info.values()]) /(len(parsed_poke_info)-1)) ** 0.5\n",
    "\n",
    "print (\"Mean is {}, Standard Deviation is {}\".format(mean, std))"
   ]
  },
  {
   "cell_type": "code",
   "execution_count": 36,
   "metadata": {},
   "outputs": [
    {
     "name": "stdout",
     "output_type": "stream",
     "text": [
      "Mean is 435.1275, Standard Deviation is 120.037066631, without removing duplicates\n",
      "Mean is 417.94590846, Standard Deviation is 109.663670744 after removing duplicates\n"
     ]
    }
   ],
   "source": [
    "import pandas as pd\n",
    "\n",
    "poke_info = pd.DataFrame.from_dict(parsed_poke_info, orient='index')\n",
    "total_pd_mean = poke_info['Total'].mean()\n",
    "total_pd_std = poke_info['Total'].std()\n",
    "print ('Mean is {}, Standard Deviation is {}, without removing duplicates'.format(total_pd_mean,total_pd_std))\n",
    "\n",
    "#Remove duplicate with same pokedex number\n",
    "poke_info.drop_duplicates('PokedexNumber', keep='first',inplace=True)\n",
    "total_pd_mean_dup = poke_info['Total'].mean()\n",
    "total_pd_std_dup = poke_info['Total'].std()\n",
    "print ('Mean is {}, Standard Deviation is {} after removing duplicates'.format(total_pd_mean_dup,total_pd_std_dup))"
   ]
  },
  {
   "cell_type": "code",
   "execution_count": 37,
   "metadata": {},
   "outputs": [
    {
     "name": "stdout",
     "output_type": "stream",
     "text": [
      "<class 'pandas.core.frame.DataFrame'>\n",
      "Int64Index: 721 entries, 0 to 799\n",
      "Data columns (total 10 columns):\n",
      "Attack            721 non-null float64\n",
      "Defense           721 non-null float64\n",
      "PokedexNumber     721 non-null float64\n",
      "Name              721 non-null object\n",
      "SpecialAttack     721 non-null float64\n",
      "HP                721 non-null float64\n",
      "Total             721 non-null float64\n",
      "Type              721 non-null object\n",
      "Speed             721 non-null float64\n",
      "SpecialDefense    721 non-null float64\n",
      "dtypes: float64(8), object(2)\n",
      "memory usage: 62.0+ KB\n"
     ]
    }
   ],
   "source": [
    "#Get poke info without duplicates\n",
    "poke_info.info()"
   ]
  },
  {
   "cell_type": "code",
   "execution_count": 38,
   "metadata": {},
   "outputs": [
    {
     "data": {
      "text/html": [
       "<div>\n",
       "<style>\n",
       "    .dataframe thead tr:only-child th {\n",
       "        text-align: right;\n",
       "    }\n",
       "\n",
       "    .dataframe thead th {\n",
       "        text-align: left;\n",
       "    }\n",
       "\n",
       "    .dataframe tbody tr th {\n",
       "        vertical-align: top;\n",
       "    }\n",
       "</style>\n",
       "<table border=\"1\" class=\"dataframe\">\n",
       "  <thead>\n",
       "    <tr style=\"text-align: right;\">\n",
       "      <th></th>\n",
       "      <th>Attack</th>\n",
       "      <th>Defense</th>\n",
       "      <th>PokedexNumber</th>\n",
       "      <th>SpecialAttack</th>\n",
       "      <th>HP</th>\n",
       "      <th>Total</th>\n",
       "      <th>Speed</th>\n",
       "      <th>SpecialDefense</th>\n",
       "    </tr>\n",
       "  </thead>\n",
       "  <tbody>\n",
       "    <tr>\n",
       "      <th>count</th>\n",
       "      <td>721.000000</td>\n",
       "      <td>721.000000</td>\n",
       "      <td>721.00000</td>\n",
       "      <td>721.000000</td>\n",
       "      <td>721.000000</td>\n",
       "      <td>721.000000</td>\n",
       "      <td>721.000000</td>\n",
       "      <td>721.000000</td>\n",
       "    </tr>\n",
       "    <tr>\n",
       "      <th>mean</th>\n",
       "      <td>75.124827</td>\n",
       "      <td>70.697642</td>\n",
       "      <td>361.00000</td>\n",
       "      <td>68.848821</td>\n",
       "      <td>68.380028</td>\n",
       "      <td>417.945908</td>\n",
       "      <td>65.714286</td>\n",
       "      <td>69.180305</td>\n",
       "    </tr>\n",
       "    <tr>\n",
       "      <th>std</th>\n",
       "      <td>29.070335</td>\n",
       "      <td>29.194941</td>\n",
       "      <td>208.27906</td>\n",
       "      <td>28.898590</td>\n",
       "      <td>25.848272</td>\n",
       "      <td>109.663671</td>\n",
       "      <td>27.277920</td>\n",
       "      <td>26.899364</td>\n",
       "    </tr>\n",
       "    <tr>\n",
       "      <th>min</th>\n",
       "      <td>5.000000</td>\n",
       "      <td>5.000000</td>\n",
       "      <td>1.00000</td>\n",
       "      <td>10.000000</td>\n",
       "      <td>1.000000</td>\n",
       "      <td>180.000000</td>\n",
       "      <td>5.000000</td>\n",
       "      <td>20.000000</td>\n",
       "    </tr>\n",
       "    <tr>\n",
       "      <th>25%</th>\n",
       "      <td>54.000000</td>\n",
       "      <td>50.000000</td>\n",
       "      <td>181.00000</td>\n",
       "      <td>45.000000</td>\n",
       "      <td>50.000000</td>\n",
       "      <td>320.000000</td>\n",
       "      <td>45.000000</td>\n",
       "      <td>50.000000</td>\n",
       "    </tr>\n",
       "    <tr>\n",
       "      <th>50%</th>\n",
       "      <td>75.000000</td>\n",
       "      <td>65.000000</td>\n",
       "      <td>361.00000</td>\n",
       "      <td>65.000000</td>\n",
       "      <td>65.000000</td>\n",
       "      <td>424.000000</td>\n",
       "      <td>65.000000</td>\n",
       "      <td>65.000000</td>\n",
       "    </tr>\n",
       "    <tr>\n",
       "      <th>75%</th>\n",
       "      <td>95.000000</td>\n",
       "      <td>85.000000</td>\n",
       "      <td>541.00000</td>\n",
       "      <td>90.000000</td>\n",
       "      <td>80.000000</td>\n",
       "      <td>499.000000</td>\n",
       "      <td>85.000000</td>\n",
       "      <td>85.000000</td>\n",
       "    </tr>\n",
       "    <tr>\n",
       "      <th>max</th>\n",
       "      <td>165.000000</td>\n",
       "      <td>230.000000</td>\n",
       "      <td>721.00000</td>\n",
       "      <td>154.000000</td>\n",
       "      <td>255.000000</td>\n",
       "      <td>720.000000</td>\n",
       "      <td>160.000000</td>\n",
       "      <td>230.000000</td>\n",
       "    </tr>\n",
       "  </tbody>\n",
       "</table>\n",
       "</div>"
      ],
      "text/plain": [
       "           Attack     Defense  PokedexNumber  SpecialAttack          HP  \\\n",
       "count  721.000000  721.000000      721.00000     721.000000  721.000000   \n",
       "mean    75.124827   70.697642      361.00000      68.848821   68.380028   \n",
       "std     29.070335   29.194941      208.27906      28.898590   25.848272   \n",
       "min      5.000000    5.000000        1.00000      10.000000    1.000000   \n",
       "25%     54.000000   50.000000      181.00000      45.000000   50.000000   \n",
       "50%     75.000000   65.000000      361.00000      65.000000   65.000000   \n",
       "75%     95.000000   85.000000      541.00000      90.000000   80.000000   \n",
       "max    165.000000  230.000000      721.00000     154.000000  255.000000   \n",
       "\n",
       "            Total       Speed  SpecialDefense  \n",
       "count  721.000000  721.000000      721.000000  \n",
       "mean   417.945908   65.714286       69.180305  \n",
       "std    109.663671   27.277920       26.899364  \n",
       "min    180.000000    5.000000       20.000000  \n",
       "25%    320.000000   45.000000       50.000000  \n",
       "50%    424.000000   65.000000       65.000000  \n",
       "75%    499.000000   85.000000       85.000000  \n",
       "max    720.000000  160.000000      230.000000  "
      ]
     },
     "execution_count": 38,
     "metadata": {},
     "output_type": "execute_result"
    }
   ],
   "source": [
    "#Get poke info stats summary\n",
    "poke_info.describe()"
   ]
  },
  {
   "cell_type": "code",
   "execution_count": 39,
   "metadata": {},
   "outputs": [
    {
     "data": {
      "text/plain": [
       "Index([u'Attack', u'Defense', u'PokedexNumber', u'Name', u'SpecialAttack',\n",
       "       u'HP', u'Total', u'Type', u'Speed', u'SpecialDefense'],\n",
       "      dtype='object')"
      ]
     },
     "execution_count": 39,
     "metadata": {},
     "output_type": "execute_result"
    }
   ],
   "source": [
    "#Check for columns name, to see if columns require cleaning\n",
    "poke_info.columns"
   ]
  },
  {
   "cell_type": "markdown",
   "metadata": {},
   "source": [
    "<img src=\"http://imgur.com/l5NasQj.png\" style=\"float: left; margin: 25px 15px 0px 0px; height: 25px\">\n",
    "### 9.2\n",
    "\n",
    "The game is no fun if the characters are wildly unbalanced! Are any characters \"overpowered\", which we'll define as having a \"Total\" more than three standard deviations from the population mean?"
   ]
  },
  {
   "cell_type": "code",
   "execution_count": 40,
   "metadata": {},
   "outputs": [
    {
     "data": {
      "text/plain": [
       "['MewtwoMega Mewtwo X']"
      ]
     },
     "execution_count": 40,
     "metadata": {},
     "output_type": "execute_result"
    }
   ],
   "source": [
    "three_dev = 3 * std\n",
    "overpowered = [dicte['Name'] for dicte in parsed_poke_info.values() if (dicte['Total'] - mean) > three_dev]\n",
    "overpowered"
   ]
  },
  {
   "cell_type": "code",
   "execution_count": 41,
   "metadata": {},
   "outputs": [
    {
     "data": {
      "image/png": "[encoded data removed]",
      "text/plain": [
       "<matplotlib.figure.Figure at 0xc2d91d0>"
      ]
     },
     "metadata": {},
     "output_type": "display_data"
    }
   ],
   "source": [
    "import seaborn as sns\n",
    "import matplotlib.pyplot as plt\n",
    "sns.set_style('whitegrid')\n",
    "sns.violinplot(poke_info['Total'],inner='quartile')\n",
    "plt.title(\"Violin Plot of Pokemon's total power\")\n",
    "plt.xlabel('Total Power')\n",
    "plt.show()"
   ]
  },
  {
   "cell_type": "code",
   "execution_count": 42,
   "metadata": {},
   "outputs": [
    {
     "data": {
      "text/html": [
       "\n",
       "    <div class=\"bk-root\">\n",
       "        <a href=\"http://bokeh.pydata.org\" target=\"_blank\" class=\"bk-logo bk-logo-small bk-logo-notebook\"></a>\n",
       "        <span id=\"1abe4345-1120-431e-b1a5-2c893b71829c\">Loading BokehJS ...</span>\n",
       "    </div>"
      ]
     },
     "metadata": {},
     "output_type": "display_data"
    },
    {
     "data": {
      "application/javascript": [
       "\n",
       "(function(global) {\n",
       "  function now() {\n",
       "    return new Date();\n",
       "  }\n",
       "\n",
       "  var force = true;\n",
       "\n",
       "  if (typeof (window._bokeh_onload_callbacks) === \"undefined\" || force === true) {\n",
       "    window._bokeh_onload_callbacks = [];\n",
       "    window._bokeh_is_loading = undefined;\n",
       "  }\n",
       "\n",
       "\n",
       "  \n",
       "  if (typeof (window._bokeh_timeout) === \"undefined\" || force === true) {\n",
       "    window._bokeh_timeout = Date.now() + 5000;\n",
       "    window._bokeh_failed_load = false;\n",
       "  }\n",
       "\n",
       "  var NB_LOAD_WARNING = {'data': {'text/html':\n",
       "     \"<div style='background-color: #fdd'>\\n\"+\n",
       "     \"<p>\\n\"+\n",
       "     \"BokehJS does not appear to have successfully loaded. If loading BokehJS from CDN, this \\n\"+\n",
       "     \"may be due to a slow or bad network connection. Possible fixes:\\n\"+\n",
       "     \"</p>\\n\"+\n",
       "     \"<ul>\\n\"+\n",
       "     \"<li>re-rerun `output_notebook()` to attempt to load from CDN again, or</li>\\n\"+\n",
       "     \"<li>use INLINE resources instead, as so:</li>\\n\"+\n",
       "     \"</ul>\\n\"+\n",
       "     \"<code>\\n\"+\n",
       "     \"from bokeh.resources import INLINE\\n\"+\n",
       "     \"output_notebook(resources=INLINE)\\n\"+\n",
       "     \"</code>\\n\"+\n",
       "     \"</div>\"}};\n",
       "\n",
       "  function display_loaded() {\n",
       "    if (window.Bokeh !== undefined) {\n",
       "      var el = document.getElementById(\"1abe4345-1120-431e-b1a5-2c893b71829c\");\n",
       "      el.textContent = \"BokehJS \" + Bokeh.version + \" successfully loaded.\";\n",
       "    } else if (Date.now() < window._bokeh_timeout) {\n",
       "      setTimeout(display_loaded, 100)\n",
       "    }\n",
       "  }\n",
       "\n",
       "  function run_callbacks() {\n",
       "    window._bokeh_onload_callbacks.forEach(function(callback) { callback() });\n",
       "    delete window._bokeh_onload_callbacks\n",
       "    console.info(\"Bokeh: all callbacks have finished\");\n",
       "  }\n",
       "\n",
       "  function load_libs(js_urls, callback) {\n",
       "    window._bokeh_onload_callbacks.push(callback);\n",
       "    if (window._bokeh_is_loading > 0) {\n",
       "      console.log(\"Bokeh: BokehJS is being loaded, scheduling callback at\", now());\n",
       "      return null;\n",
       "    }\n",
       "    if (js_urls == null || js_urls.length === 0) {\n",
       "      run_callbacks();\n",
       "      return null;\n",
       "    }\n",
       "    console.log(\"Bokeh: BokehJS not loaded, scheduling load and callback at\", now());\n",
       "    window._bokeh_is_loading = js_urls.length;\n",
       "    for (var i = 0; i < js_urls.length; i++) {\n",
       "      var url = js_urls[i];\n",
       "      var s = document.createElement('script');\n",
       "      s.src = url;\n",
       "      s.async = false;\n",
       "      s.onreadystatechange = s.onload = function() {\n",
       "        window._bokeh_is_loading--;\n",
       "        if (window._bokeh_is_loading === 0) {\n",
       "          console.log(\"Bokeh: all BokehJS libraries loaded\");\n",
       "          run_callbacks()\n",
       "        }\n",
       "      };\n",
       "      s.onerror = function() {\n",
       "        console.warn(\"failed to load library \" + url);\n",
       "      };\n",
       "      console.log(\"Bokeh: injecting script tag for BokehJS library: \", url);\n",
       "      document.getElementsByTagName(\"head\")[0].appendChild(s);\n",
       "    }\n",
       "  };var element = document.getElementById(\"1abe4345-1120-431e-b1a5-2c893b71829c\");\n",
       "  if (element == null) {\n",
       "    console.log(\"Bokeh: ERROR: autoload.js configured with elementid '1abe4345-1120-431e-b1a5-2c893b71829c' but no matching script tag was found. \")\n",
       "    return false;\n",
       "  }\n",
       "\n",
       "  var js_urls = [\"https://cdn.pydata.org/bokeh/release/bokeh-0.12.5.min.js\", \"https://cdn.pydata.org/bokeh/release/bokeh-widgets-0.12.5.min.js\"];\n",
       "\n",
       "  var inline_js = [\n",
       "    function(Bokeh) {\n",
       "      Bokeh.set_log_level(\"info\");\n",
       "    },\n",
       "    \n",
       "    function(Bokeh) {\n",
       "      \n",
       "    },\n",
       "    \n",
       "    function(Bokeh) {\n",
       "      \n",
       "      document.getElementById(\"1abe4345-1120-431e-b1a5-2c893b71829c\").textContent = \"BokehJS is loading...\";\n",
       "    },\n",
       "    function(Bokeh) {\n",
       "      console.log(\"Bokeh: injecting CSS: https://cdn.pydata.org/bokeh/release/bokeh-0.12.5.min.css\");\n",
       "      Bokeh.embed.inject_css(\"https://cdn.pydata.org/bokeh/release/bokeh-0.12.5.min.css\");\n",
       "      console.log(\"Bokeh: injecting CSS: https://cdn.pydata.org/bokeh/release/bokeh-widgets-0.12.5.min.css\");\n",
       "      Bokeh.embed.inject_css(\"https://cdn.pydata.org/bokeh/release/bokeh-widgets-0.12.5.min.css\");\n",
       "    }\n",
       "  ];\n",
       "\n",
       "  function run_inline_js() {\n",
       "    \n",
       "    if ((window.Bokeh !== undefined) || (force === true)) {\n",
       "      for (var i = 0; i < inline_js.length; i++) {\n",
       "        inline_js[i](window.Bokeh);\n",
       "      }if (force === true) {\n",
       "        display_loaded();\n",
       "      }} else if (Date.now() < window._bokeh_timeout) {\n",
       "      setTimeout(run_inline_js, 100);\n",
       "    } else if (!window._bokeh_failed_load) {\n",
       "      console.log(\"Bokeh: BokehJS failed to load within specified timeout.\");\n",
       "      window._bokeh_failed_load = true;\n",
       "    } else if (force !== true) {\n",
       "      var cell = $(document.getElementById(\"1abe4345-1120-431e-b1a5-2c893b71829c\")).parents('.cell').data().cell;\n",
       "      cell.output_area.append_execute_result(NB_LOAD_WARNING)\n",
       "    }\n",
       "\n",
       "  }\n",
       "\n",
       "  if (window._bokeh_is_loading === 0) {\n",
       "    console.log(\"Bokeh: BokehJS loaded, going straight to plotting\");\n",
       "    run_inline_js();\n",
       "  } else {\n",
       "    load_libs(js_urls, function() {\n",
       "      console.log(\"Bokeh: BokehJS plotting callback run at\", now());\n",
       "      run_inline_js();\n",
       "    });\n",
       "  }\n",
       "}(this));"
      ]
     },
     "metadata": {},
     "output_type": "display_data"
    },
    {
     "data": {
      "text/html": [
       "\n",
       "\n",
       "    <div class=\"bk-root\">\n",
       "        <div class=\"bk-plotdiv\" id=\"f037004c-ea5c-47c1-a9d3-e792e5f5dc86\"></div>\n",
       "    </div>\n",
       "<script type=\"text/javascript\">\n",
       "  \n",
       "  (function(global) {\n",
       "    function now() {\n",
       "      return new Date();\n",
       "    }\n",
       "  \n",
       "    var force = false;\n",
       "  \n",
       "    if (typeof (window._bokeh_onload_callbacks) === \"undefined\" || force === true) {\n",
       "      window._bokeh_onload_callbacks = [];\n",
       "      window._bokeh_is_loading = undefined;\n",
       "    }\n",
       "  \n",
       "  \n",
       "    \n",
       "    if (typeof (window._bokeh_timeout) === \"undefined\" || force === true) {\n",
       "      window._bokeh_timeout = Date.now() + 0;\n",
       "      window._bokeh_failed_load = false;\n",
       "    }\n",
       "  \n",
       "    var NB_LOAD_WARNING = {'data': {'text/html':\n",
       "       \"<div style='background-color: #fdd'>\\n\"+\n",
       "       \"<p>\\n\"+\n",
       "       \"BokehJS does not appear to have successfully loaded. If loading BokehJS from CDN, this \\n\"+\n",
       "       \"may be due to a slow or bad network connection. Possible fixes:\\n\"+\n",
       "       \"</p>\\n\"+\n",
       "       \"<ul>\\n\"+\n",
       "       \"<li>re-rerun `output_notebook()` to attempt to load from CDN again, or</li>\\n\"+\n",
       "       \"<li>use INLINE resources instead, as so:</li>\\n\"+\n",
       "       \"</ul>\\n\"+\n",
       "       \"<code>\\n\"+\n",
       "       \"from bokeh.resources import INLINE\\n\"+\n",
       "       \"output_notebook(resources=INLINE)\\n\"+\n",
       "       \"</code>\\n\"+\n",
       "       \"</div>\"}};\n",
       "  \n",
       "    function display_loaded() {\n",
       "      if (window.Bokeh !== undefined) {\n",
       "        var el = document.getElementById(\"f037004c-ea5c-47c1-a9d3-e792e5f5dc86\");\n",
       "        el.textContent = \"BokehJS \" + Bokeh.version + \" successfully loaded.\";\n",
       "      } else if (Date.now() < window._bokeh_timeout) {\n",
       "        setTimeout(display_loaded, 100)\n",
       "      }\n",
       "    }\n",
       "  \n",
       "    function run_callbacks() {\n",
       "      window._bokeh_onload_callbacks.forEach(function(callback) { callback() });\n",
       "      delete window._bokeh_onload_callbacks\n",
       "      console.info(\"Bokeh: all callbacks have finished\");\n",
       "    }\n",
       "  \n",
       "    function load_libs(js_urls, callback) {\n",
       "      window._bokeh_onload_callbacks.push(callback);\n",
       "      if (window._bokeh_is_loading > 0) {\n",
       "        console.log(\"Bokeh: BokehJS is being loaded, scheduling callback at\", now());\n",
       "        return null;\n",
       "      }\n",
       "      if (js_urls == null || js_urls.length === 0) {\n",
       "        run_callbacks();\n",
       "        return null;\n",
       "      }\n",
       "      console.log(\"Bokeh: BokehJS not loaded, scheduling load and callback at\", now());\n",
       "      window._bokeh_is_loading = js_urls.length;\n",
       "      for (var i = 0; i < js_urls.length; i++) {\n",
       "        var url = js_urls[i];\n",
       "        var s = document.createElement('script');\n",
       "        s.src = url;\n",
       "        s.async = false;\n",
       "        s.onreadystatechange = s.onload = function() {\n",
       "          window._bokeh_is_loading--;\n",
       "          if (window._bokeh_is_loading === 0) {\n",
       "            console.log(\"Bokeh: all BokehJS libraries loaded\");\n",
       "            run_callbacks()\n",
       "          }\n",
       "        };\n",
       "        s.onerror = function() {\n",
       "          console.warn(\"failed to load library \" + url);\n",
       "        };\n",
       "        console.log(\"Bokeh: injecting script tag for BokehJS library: \", url);\n",
       "        document.getElementsByTagName(\"head\")[0].appendChild(s);\n",
       "      }\n",
       "    };var element = document.getElementById(\"f037004c-ea5c-47c1-a9d3-e792e5f5dc86\");\n",
       "    if (element == null) {\n",
       "      console.log(\"Bokeh: ERROR: autoload.js configured with elementid 'f037004c-ea5c-47c1-a9d3-e792e5f5dc86' but no matching script tag was found. \")\n",
       "      return false;\n",
       "    }\n",
       "  \n",
       "    var js_urls = [];\n",
       "  \n",
       "    var inline_js = [\n",
       "      function(Bokeh) {\n",
       "        (function() {\n",
       "          var fn = function() {\n",
       "            var docs_json = {\"19ebda04-3209-4961-a1ce-5924123aa83b\":{\"roots\":{\"references\":[{\"attributes\":{},\"id\":\"c9a1b1b1-7e50-4918-b34b-175bdb846986\",\"type\":\"BasicTicker\"},{\"attributes\":{\"fill_color\":{\"value\":\"#1f77b4\"},\"line_color\":{\"value\":\"#1f77b4\"},\"x\":{\"field\":\"PokedexNumber\"},\"y\":{\"field\":\"Total\"}},\"id\":\"acd7b8c6-b0b4-4a15-9f06-068d51f2a624\",\"type\":\"Circle\"},{\"attributes\":{\"plot\":{\"id\":\"d1c6bc90-fdc3-4e1b-be7c-c031ee0344bd\",\"subtype\":\"Figure\",\"type\":\"Plot\"}},\"id\":\"e98e9aa7-3f42-4405-b73b-6550bf605b95\",\"type\":\"PanTool\"},{\"attributes\":{},\"id\":\"fcb81019-cf0b-410d-b3d0-1bf60845fe41\",\"type\":\"ToolEvents\"},{\"attributes\":{},\"id\":\"1bd22835-8323-418e-917c-3b862339a300\",\"type\":\"BasicTickFormatter\"},{\"attributes\":{\"plot\":{\"id\":\"d1c6bc90-fdc3-4e1b-be7c-c031ee0344bd\",\"subtype\":\"Figure\",\"type\":\"Plot\"}},\"id\":\"f95c86da-7238-405a-a6cf-62349983ee0c\",\"type\":\"ResetTool\"},{\"attributes\":{},\"id\":\"ee4f602e-0dff-493d-9eac-725145e5e6b2\",\"type\":\"BasicTickFormatter\"},{\"attributes\":{\"axis_label\":\"Total Power\",\"formatter\":{\"id\":\"1bd22835-8323-418e-917c-3b862339a300\",\"type\":\"BasicTickFormatter\"},\"plot\":{\"id\":\"d1c6bc90-fdc3-4e1b-be7c-c031ee0344bd\",\"subtype\":\"Figure\",\"type\":\"Plot\"},\"ticker\":{\"id\":\"c020edf3-e047-4e5d-8ddf-6b7a292ef2f2\",\"type\":\"BasicTicker\"}},\"id\":\"d8261788-222a-4df1-832a-989569d9cbf8\",\"type\":\"LinearAxis\"},{\"attributes\":{\"callback\":null},\"id\":\"69d174cf-cede-4bd3-aee0-1b3d9f93cbe8\",\"type\":\"DataRange1d\"},{\"attributes\":{\"plot\":{\"id\":\"d1c6bc90-fdc3-4e1b-be7c-c031ee0344bd\",\"subtype\":\"Figure\",\"type\":\"Plot\"}},\"id\":\"556d9cff-9ac6-4ed2-8118-cc72247b8644\",\"type\":\"SaveTool\"},{\"attributes\":{\"below\":[{\"id\":\"01e62ba3-48c1-4eb5-b7ef-d7763aaa225c\",\"type\":\"LinearAxis\"}],\"left\":[{\"id\":\"d8261788-222a-4df1-832a-989569d9cbf8\",\"type\":\"LinearAxis\"}],\"renderers\":[{\"id\":\"01e62ba3-48c1-4eb5-b7ef-d7763aaa225c\",\"type\":\"LinearAxis\"},{\"id\":\"25326b9d-4b01-479a-b70e-1c3774a3f272\",\"type\":\"Grid\"},{\"id\":\"d8261788-222a-4df1-832a-989569d9cbf8\",\"type\":\"LinearAxis\"},{\"id\":\"42adb9c7-ce6c-48f9-a52c-49ce01746ef5\",\"type\":\"Grid\"},{\"id\":\"a1d2e81a-a465-4fb5-aaf6-6d2b56307e04\",\"type\":\"BoxAnnotation\"},{\"id\":\"59b68acd-13ff-4e2c-b655-2c15e9af523f\",\"type\":\"GlyphRenderer\"}],\"title\":{\"id\":\"ee923523-454a-4fce-ac69-56dc166b3590\",\"type\":\"Title\"},\"tool_events\":{\"id\":\"fcb81019-cf0b-410d-b3d0-1bf60845fe41\",\"type\":\"ToolEvents\"},\"toolbar\":{\"id\":\"e3c29033-98f1-496b-8ef8-4407f94c7370\",\"type\":\"Toolbar\"},\"x_range\":{\"id\":\"dd424031-4b17-4ed0-98d1-3d64bbed3bf1\",\"type\":\"DataRange1d\"},\"y_range\":{\"id\":\"69d174cf-cede-4bd3-aee0-1b3d9f93cbe8\",\"type\":\"DataRange1d\"}},\"id\":\"d1c6bc90-fdc3-4e1b-be7c-c031ee0344bd\",\"subtype\":\"Figure\",\"type\":\"Plot\"},{\"attributes\":{\"callback\":null,\"plot\":{\"id\":\"d1c6bc90-fdc3-4e1b-be7c-c031ee0344bd\",\"subtype\":\"Figure\",\"type\":\"Plot\"},\"tooltips\":[[\"Pokedex\",\"@PokedexNumber\"],[\"Name\",\"@Name\"],[\"Total\",\"@Total\"]]},\"id\":\"0d2fb7c3-289e-429b-873d-2ba513568cea\",\"type\":\"HoverTool\"},{\"attributes\":{},\"id\":\"c020edf3-e047-4e5d-8ddf-6b7a292ef2f2\",\"type\":\"BasicTicker\"},{\"attributes\":{\"fill_alpha\":{\"value\":0.1},\"fill_color\":{\"value\":\"#1f77b4\"},\"line_alpha\":{\"value\":0.1},\"line_color\":{\"value\":\"#1f77b4\"},\"x\":{\"field\":\"PokedexNumber\"},\"y\":{\"field\":\"Total\"}},\"id\":\"1debb437-8e80-480a-8f88-8756b662ab4b\",\"type\":\"Circle\"},{\"attributes\":{\"active_drag\":\"auto\",\"active_scroll\":\"auto\",\"active_tap\":\"auto\",\"tools\":[{\"id\":\"e98e9aa7-3f42-4405-b73b-6550bf605b95\",\"type\":\"PanTool\"},{\"id\":\"25c5b80b-91c2-4dc8-91d4-2e56662add55\",\"type\":\"WheelZoomTool\"},{\"id\":\"eb16fe5e-3e8a-4ba3-acfb-2ca45ee745af\",\"type\":\"BoxZoomTool\"},{\"id\":\"556d9cff-9ac6-4ed2-8118-cc72247b8644\",\"type\":\"SaveTool\"},{\"id\":\"f95c86da-7238-405a-a6cf-62349983ee0c\",\"type\":\"ResetTool\"},{\"id\":\"2f5b600e-bb74-4878-9451-4653c2db2717\",\"type\":\"HelpTool\"},{\"id\":\"0d2fb7c3-289e-429b-873d-2ba513568cea\",\"type\":\"HoverTool\"}]},\"id\":\"e3c29033-98f1-496b-8ef8-4407f94c7370\",\"type\":\"Toolbar\"},{\"attributes\":{\"plot\":{\"id\":\"d1c6bc90-fdc3-4e1b-be7c-c031ee0344bd\",\"subtype\":\"Figure\",\"type\":\"Plot\"}},\"id\":\"25c5b80b-91c2-4dc8-91d4-2e56662add55\",\"type\":\"WheelZoomTool\"},{\"attributes\":{\"plot\":{\"id\":\"d1c6bc90-fdc3-4e1b-be7c-c031ee0344bd\",\"subtype\":\"Figure\",\"type\":\"Plot\"},\"ticker\":{\"id\":\"c9a1b1b1-7e50-4918-b34b-175bdb846986\",\"type\":\"BasicTicker\"}},\"id\":\"25326b9d-4b01-479a-b70e-1c3774a3f272\",\"type\":\"Grid\"},{\"attributes\":{\"bottom_units\":\"screen\",\"fill_alpha\":{\"value\":0.5},\"fill_color\":{\"value\":\"lightgrey\"},\"left_units\":\"screen\",\"level\":\"overlay\",\"line_alpha\":{\"value\":1.0},\"line_color\":{\"value\":\"black\"},\"line_dash\":[4,4],\"line_width\":{\"value\":2},\"plot\":null,\"render_mode\":\"css\",\"right_units\":\"screen\",\"top_units\":\"screen\"},\"id\":\"a1d2e81a-a465-4fb5-aaf6-6d2b56307e04\",\"type\":\"BoxAnnotation\"},{\"attributes\":{\"callback\":null,\"column_names\":[\"index\",\"Name\",\"Type\",\"HP\",\"Speed\",\"Attack\",\"Defense\",\"PokedexNumber\",\"SpecialDefense\",\"Total\",\"SpecialAttack\"],\"data\":{\"Attack\":{\"__ndarray__\":\"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\",\"dtype\":\"float64\",\"shape\":[721]},\"Defense\":{\"__ndarray__\":\"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\",\"dtype\":\"float64\",\"shape\":[721]},\"HP\":{\"__ndarray__\":\"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\",\"dtype\":\"float64\",\"shape\":[721]},\"Name\":[\"Bulbasaur\",\"Ivysaur\",\"Venusaur\",\"Charmander\",\"Charmeleon\",\"Charizard\",\"Squirtle\",\"Wartortle\",\"Blastoise\",\"Caterpie\",\"Metapod\",\"Butterfree\",\"Weedle\",\"Kakuna\",\"Beedrill\",\"Pidgey\",\"Pidgeotto\",\"Pidgeot\",\"Rattata\",\"Raticate\",\"Spearow\",\"Fearow\",\"Ekans\",\"Arbok\",\"Pikachu\",\"Raichu\",\"Sandshrew\",\"Sandslash\",\"NidoranF\",\"Nidorina\",\"Nidoqueen\",\"NidoranM\",\"Nidorino\",\"Nidoking\",\"Clefairy\",\"Clefable\",\"Vulpix\",\"Ninetales\",\"Jigglypuff\",\"Wigglytuff\",\"Zubat\",\"Golbat\",\"Oddish\",\"Gloom\",\"Vileplume\",\"Paras\",\"Parasect\",\"Venonat\",\"Venomoth\",\"Diglett\",\"Dugtrio\",\"Meowth\",\"Persian\",\"Psyduck\",\"Golduck\",\"Mankey\",\"Primeape\",\"Growlithe\",\"Arcanine\",\"Poliwag\",\"Poliwhirl\",\"Poliwrath\",\"Abra\",\"Kadabra\",\"Alakazam\",\"Machop\",\"Machoke\",\"Machamp\",\"Bellsprout\",\"Weepinbell\",\"Victreebel\",\"Tentacool\",\"Tentacruel\",\"Geodude\",\"Graveler\",\"Golem\",\"Ponyta\",\"Rapidash\",\"Slowpoke\",\"Slowbro\",\"Magnemite\",\"Magneton\",\"Farfetch'd\",\"Doduo\",\"Dodrio\",\"Seel\",\"Dewgong\",\"Grimer\",\"Muk\",\"Shellder\",\"Cloyster\",\"Gastly\",\"Haunter\",\"Gengar\",\"Onix\",\"Drowzee\",\"Hypno\",\"Krabby\",\"Kingler\",\"Voltorb\",\"Electrode\",\"Exeggcute\",\"Exeggutor\",\"Cubone\",\"Marowak\",\"Hitmonlee\",\"Hitmonchan\",\"Lickitung\",\"Koffing\",\"Weezing\",\"Rhyhorn\",\"Rhydon\",\"Chansey\",\"Tangela\",\"Kangaskhan\",\"Horsea\",\"Seadra\",\"Goldeen\",\"Seaking\",\"Staryu\",\"Starmie\",\"Mr. Mime\",\"Scyther\",\"Jynx\",\"Electabuzz\",\"Magmar\",\"Pinsir\",\"Tauros\",\"Magikarp\",\"Gyarados\",\"Lapras\",\"Ditto\",\"Eevee\",\"Vaporeon\",\"Jolteon\",\"Flareon\",\"Porygon\",\"Omanyte\",\"Omastar\",\"Kabuto\",\"Kabutops\",\"Aerodactyl\",\"Snorlax\",\"Articuno\",\"Zapdos\",\"Moltres\",\"Dratini\",\"Dragonair\",\"Dragonite\",\"Mewtwo\",\"Mew\",\"Chikorita\",\"Bayleef\",\"Meganium\",\"Cyndaquil\",\"Quilava\",\"Typhlosion\",\"Totodile\",\"Croconaw\",\"Feraligatr\",\"Sentret\",\"Furret\",\"Hoothoot\",\"Noctowl\",\"Ledyba\",\"Ledian\",\"Spinarak\",\"Ariados\",\"Crobat\",\"Chinchou\",\"Lanturn\",\"Pichu\",\"Cleffa\",\"Igglybuff\",\"Togepi\",\"Togetic\",\"Natu\",\"Xatu\",\"Mareep\",\"Flaaffy\",\"Ampharos\",\"Bellossom\",\"Marill\",\"Azumarill\",\"Sudowoodo\",\"Politoed\",\"Hoppip\",\"Skiploom\",\"Jumpluff\",\"Aipom\",\"Sunkern\",\"Sunflora\",\"Yanma\",\"Wooper\",\"Quagsire\",\"Espeon\",\"Umbreon\",\"Murkrow\",\"Slowking\",\"Misdreavus\",\"Unown\",\"Wobbuffet\",\"Girafarig\",\"Pineco\",\"Forretress\",\"Dunsparce\",\"Gligar\",\"Steelix\",\"Snubbull\",\"Granbull\",\"Qwilfish\",\"Scizor\",\"Shuckle\",\"Heracross\",\"Sneasel\",\"Teddiursa\",\"Ursaring\",\"Slugma\",\"Magcargo\",\"Swinub\",\"Piloswine\",\"Corsola\",\"Remoraid\",\"Octillery\",\"Delibird\",\"Mantine\",\"Skarmory\",\"Houndour\",\"Houndoom\",\"Kingdra\",\"Phanpy\",\"Donphan\",\"Porygon2\",\"Stantler\",\"Smeargle\",\"Tyrogue\",\"Hitmontop\",\"Smoochum\",\"Elekid\",\"Magby\",\"Miltank\",\"Blissey\",\"Raikou\",\"Entei\",\"Suicune\",\"Larvitar\",\"Pupitar\",\"Tyranitar\",\"Lugia\",\"Ho-oh\",\"Celebi\",\"Treecko\",\"Grovyle\",\"Sceptile\",\"Torchic\",\"Combusken\",\"Blaziken\",\"Mudkip\",\"Marshtomp\",\"Swampert\",\"Poochyena\",\"Mightyena\",\"Zigzagoon\",\"Linoone\",\"Wurmple\",\"Silcoon\",\"Beautifly\",\"Cascoon\",\"Dustox\",\"Lotad\",\"Lombre\",\"Ludicolo\",\"Seedot\",\"Nuzleaf\",\"Shiftry\",\"Taillow\",\"Swellow\",\"Wingull\",\"Pelipper\",\"Ralts\",\"Kirlia\",\"Gardevoir\",\"Surskit\",\"Masquerain\",\"Shroomish\",\"Breloom\",\"Slakoth\",\"Vigoroth\",\"Slaking\",\"Nincada\",\"Ninjask\",\"Shedinja\",\"Whismur\",\"Loudred\",\"Exploud\",\"Makuhita\",\"Hariyama\",\"Azurill\",\"Nosepass\",\"Skitty\",\"Delcatty\",\"Sableye\",\"Mawile\",\"Aron\",\"Lairon\",\"Aggron\",\"Meditite\",\"Medicham\",\"Electrike\",\"Manectric\",\"Plusle\",\"Minun\",\"Volbeat\",\"Illumise\",\"Roselia\",\"Gulpin\",\"Swalot\",\"Carvanha\",\"Sharpedo\",\"Wailmer\",\"Wailord\",\"Numel\",\"Camerupt\",\"Torkoal\",\"Spoink\",\"Grumpig\",\"Spinda\",\"Trapinch\",\"Vibrava\",\"Flygon\",\"Cacnea\",\"Cacturne\",\"Swablu\",\"Altaria\",\"Zangoose\",\"Seviper\",\"Lunatone\",\"Solrock\",\"Barboach\",\"Whiscash\",\"Corphish\",\"Crawdaunt\",\"Baltoy\",\"Claydol\",\"Lileep\",\"Cradily\",\"Anorith\",\"Armaldo\",\"Feebas\",\"Milotic\",\"Castform\",\"Kecleon\",\"Shuppet\",\"Banette\",\"Duskull\",\"Dusclops\",\"Tropius\",\"Chimecho\",\"Absol\",\"Wynaut\",\"Snorunt\",\"Glalie\",\"Spheal\",\"Sealeo\",\"Walrein\",\"Clamperl\",\"Huntail\",\"Gorebyss\",\"Relicanth\",\"Luvdisc\",\"Bagon\",\"Shelgon\",\"Salamence\",\"Beldum\",\"Metang\",\"Metagross\",\"Regirock\",\"Regice\",\"Registeel\",\"Latias\",\"Latios\",\"Kyogre\",\"Groudon\",\"Rayquaza\",\"Jirachi\",\"DeoxysNormal Forme\",\"Turtwig\",\"Grotle\",\"Torterra\",\"Chimchar\",\"Monferno\",\"Infernape\",\"Piplup\",\"Prinplup\",\"Empoleon\",\"Starly\",\"Staravia\",\"Staraptor\",\"Bidoof\",\"Bibarel\",\"Kricketot\",\"Kricketune\",\"Shinx\",\"Luxio\",\"Luxray\",\"Budew\",\"Roserade\",\"Cranidos\",\"Rampardos\",\"Shieldon\",\"Bastiodon\",\"Burmy\",\"WormadamPlant Cloak\",\"Mothim\",\"Combee\",\"Vespiquen\",\"Pachirisu\",\"Buizel\",\"Floatzel\",\"Cherubi\",\"Cherrim\",\"Shellos\",\"Gastrodon\",\"Ambipom\",\"Drifloon\",\"Drifblim\",\"Buneary\",\"Lopunny\",\"Mismagius\",\"Honchkrow\",\"Glameow\",\"Purugly\",\"Chingling\",\"Stunky\",\"Skuntank\",\"Bronzor\",\"Bronzong\",\"Bonsly\",\"Mime Jr.\",\"Happiny\",\"Chatot\",\"Spiritomb\",\"Gible\",\"Gabite\",\"Garchomp\",\"Munchlax\",\"Riolu\",\"Lucario\",\"Hippopotas\",\"Hippowdon\",\"Skorupi\",\"Drapion\",\"Croagunk\",\"Toxicroak\",\"Carnivine\",\"Finneon\",\"Lumineon\",\"Mantyke\",\"Snover\",\"Abomasnow\",\"Weavile\",\"Magnezone\",\"Lickilicky\",\"Rhyperior\",\"Tangrowth\",\"Electivire\",\"Magmortar\",\"Togekiss\",\"Yanmega\",\"Leafeon\",\"Glaceon\",\"Gliscor\",\"Mamoswine\",\"Porygon-Z\",\"Gallade\",\"Probopass\",\"Dusknoir\",\"Froslass\",\"Rotom\",\"Uxie\",\"Mesprit\",\"Azelf\",\"Dialga\",\"Palkia\",\"Heatran\",\"Regigigas\",\"GiratinaAltered Forme\",\"Cresselia\",\"Phione\",\"Manaphy\",\"Darkrai\",\"ShayminLand Forme\",\"Arceus\",\"Victini\",\"Snivy\",\"Servine\",\"Serperior\",\"Tepig\",\"Pignite\",\"Emboar\",\"Oshawott\",\"Dewott\",\"Samurott\",\"Patrat\",\"Watchog\",\"Lillipup\",\"Herdier\",\"Stoutland\",\"Purrloin\",\"Liepard\",\"Pansage\",\"Simisage\",\"Pansear\",\"Simisear\",\"Panpour\",\"Simipour\",\"Munna\",\"Musharna\",\"Pidove\",\"Tranquill\",\"Unfezant\",\"Blitzle\",\"Zebstrika\",\"Roggenrola\",\"Boldore\",\"Gigalith\",\"Woobat\",\"Swoobat\",\"Drilbur\",\"Excadrill\",\"Audino\",\"Timburr\",\"Gurdurr\",\"Conkeldurr\",\"Tympole\",\"Palpitoad\",\"Seismitoad\",\"Throh\",\"Sawk\",\"Sewaddle\",\"Swadloon\",\"Leavanny\",\"Venipede\",\"Whirlipede\",\"Scolipede\",\"Cottonee\",\"Whimsicott\",\"Petilil\",\"Lilligant\",\"Basculin\",\"Sandile\",\"Krokorok\",\"Krookodile\",\"Darumaka\",\"DarmanitanStandard Mode\",\"Maractus\",\"Dwebble\",\"Crustle\",\"Scraggy\",\"Scrafty\",\"Sigilyph\",\"Yamask\",\"Cofagrigus\",\"Tirtouga\",\"Carracosta\",\"Archen\",\"Archeops\",\"Trubbish\",\"Garbodor\",\"Zorua\",\"Zoroark\",\"Minccino\",\"Cinccino\",\"Gothita\",\"Gothorita\",\"Gothitelle\",\"Solosis\",\"Duosion\",\"Reuniclus\",\"Ducklett\",\"Swanna\",\"Vanillite\",\"Vanillish\",\"Vanilluxe\",\"Deerling\",\"Sawsbuck\",\"Emolga\",\"Karrablast\",\"Escavalier\",\"Foongus\",\"Amoonguss\",\"Frillish\",\"Jellicent\",\"Alomomola\",\"Joltik\",\"Galvantula\",\"Ferroseed\",\"Ferrothorn\",\"Klink\",\"Klang\",\"Klinklang\",\"Tynamo\",\"Eelektrik\",\"Eelektross\",\"Elgyem\",\"Beheeyem\",\"Litwick\",\"Lampent\",\"Chandelure\",\"Axew\",\"Fraxure\",\"Haxorus\",\"Cubchoo\",\"Beartic\",\"Cryogonal\",\"Shelmet\",\"Accelgor\",\"Stunfisk\",\"Mienfoo\",\"Mienshao\",\"Druddigon\",\"Golett\",\"Golurk\",\"Pawniard\",\"Bisharp\",\"Bouffalant\",\"Rufflet\",\"Braviary\",\"Vullaby\",\"Mandibuzz\",\"Heatmor\",\"Durant\",\"Deino\",\"Zweilous\",\"Hydreigon\",\"Larvesta\",\"Volcarona\",\"Cobalion\",\"Terrakion\",\"Virizion\",\"TornadusIncarnate Forme\",\"ThundurusIncarnate Forme\",\"Reshiram\",\"Zekrom\",\"LandorusIncarnate Forme\",\"Kyurem\",\"KeldeoOrdinary Forme\",\"MeloettaAria Forme\",\"Genesect\",\"Chespin\",\"Quilladin\",\"Chesnaught\",\"Fennekin\",\"Braixen\",\"Delphox\",\"Froakie\",\"Frogadier\",\"Greninja\",\"Bunnelby\",\"Diggersby\",\"Fletchling\",\"Fletchinder\",\"Talonflame\",\"Scatterbug\",\"Spewpa\",\"Vivillon\",\"Litleo\",\"Pyroar\",\"Flabebe\",\"Floette\",\"Florges\",\"Skiddo\",\"Gogoat\",\"Pancham\",\"Pangoro\",\"Furfrou\",\"Espurr\",\"MeowsticMale\",\"Honedge\",\"Doublade\",\"AegislashBlade Forme\",\"Spritzee\",\"Aromatisse\",\"Swirlix\",\"Slurpuff\",\"Inkay\",\"Malamar\",\"Binacle\",\"Barbaracle\",\"Skrelp\",\"Dragalge\",\"Clauncher\",\"Clawitzer\",\"Helioptile\",\"Heliolisk\",\"Tyrunt\",\"Tyrantrum\",\"Amaura\",\"Aurorus\",\"Sylveon\",\"Hawlucha\",\"Dedenne\",\"Carbink\",\"Goomy\",\"Sliggoo\",\"Goodra\",\"Klefki\",\"Phantump\",\"Trevenant\",\"PumpkabooAverage Size\",\"GourgeistAverage Size\",\"Bergmite\",\"Avalugg\",\"Noibat\",\"Noivern\",\"Xerneas\",\"Yveltal\",\"Zygarde Forme\",\"Diancie\",\"HoopaHoopa Confined\",\"Volcanion\"],\"PokedexNumber\":{\"__ndarray__\":\"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\",\"dtype\":\"float64\",\"shape\":[721]},\"SpecialAttack\":{\"__ndarray__\":\"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\",\"dtype\":\"float64\",\"shape\":[721]},\"SpecialDefense\":{\"__ndarray__\":\"AAAAAABAUEAAAAAAAABUQAAAAAAAAFlAAAAAAAAASUAAAAAAAEBQQAAAAAAAQFVAAAAAAAAAUEAAAAAAAABUQAAAAAAAQFpAAAAAAAAANEAAAAAAAAA5QAAAAAAAAFRAAAAAAAAANEAAAAAAAAA5QAAAAAAAAFRAAAAAAACAQUAAAAAAAABJQAAAAAAAgFFAAAAAAACAQUAAAAAAAIBRQAAAAAAAAD9AAAAAAACATkAAAAAAAABLQAAAAAAAwFNAAAAAAAAASUAAAAAAAABUQAAAAAAAAD5AAAAAAACAS0AAAAAAAABEQAAAAAAAgEtAAAAAAABAVUAAAAAAAABEQAAAAAAAgEtAAAAAAADAUkAAAAAAAEBQQAAAAAAAgFZAAAAAAABAUEAAAAAAAABZQAAAAAAAADlAAAAAAAAASUAAAAAAAABEQAAAAAAAwFJAAAAAAABAUEAAAAAAAMBSQAAAAAAAgFZAAAAAAACAS0AAAAAAAABUQAAAAAAAgEtAAAAAAADAUkAAAAAAAIBGQAAAAAAAgFFAAAAAAAAAREAAAAAAAEBQQAAAAAAAAElAAAAAAAAAVEAAAAAAAIBGQAAAAAAAgFFAAAAAAAAASUAAAAAAAABUQAAAAAAAAERAAAAAAAAASUAAAAAAAIBWQAAAAAAAgEtAAAAAAACAUUAAAAAAAMBXQAAAAAAAgEFAAAAAAAAATkAAAAAAAEBVQAAAAAAAAD5AAAAAAACARkAAAAAAAIBRQAAAAAAAAFlAAAAAAAAAXkAAAAAAAAA+QAAAAAAAgEZAAAAAAABAUEAAAAAAAEBQQAAAAAAAAFRAAAAAAAAAREAAAAAAAABUQAAAAAAAgEtAAAAAAACAUUAAAAAAAABPQAAAAAAAgEFAAAAAAAAATkAAAAAAAIBRQAAAAAAAwFdAAAAAAAAASUAAAAAAAABZQAAAAAAAADlAAAAAAACARkAAAAAAAIBBQAAAAAAAgEtAAAAAAADAUkAAAAAAAIBGQAAAAAAAgFZAAAAAAADAXEAAAAAAAAA5QAAAAAAAAElAAAAAAACAS0AAAAAAAABUQAAAAAAAgEZAAAAAAABAUEAAAAAAAABJQAAAAAAAAFRAAAAAAACAW0AAAAAAAIBbQAAAAAAAwFJAAAAAAACARkAAAAAAAIBRQAAAAAAAAD5AAAAAAACARkAAAAAAAEBaQAAAAAAAAERAAAAAAAAAVEAAAAAAAAA5QAAAAAAAgEZAAAAAAAAASUAAAAAAAABUQAAAAAAAgEtAAAAAAABAVUAAAAAAAABeQAAAAAAAAFRAAAAAAADAV0AAAAAAAEBVQAAAAAAAQFVAAAAAAACAUUAAAAAAAIBRQAAAAAAAADRAAAAAAAAAWUAAAAAAAMBXQAAAAAAAAEhAAAAAAABAUEAAAAAAAMBXQAAAAAAAwFdAAAAAAACAW0AAAAAAAMBSQAAAAAAAgEtAAAAAAACAUUAAAAAAAIBGQAAAAAAAgFFAAAAAAADAUkAAAAAAAIBbQAAAAAAAQF9AAAAAAACAVkAAAAAAAEBVQAAAAAAAAElAAAAAAACAUUAAAAAAAABZQAAAAAAAgFZAAAAAAAAAWUAAAAAAAEBQQAAAAAAAAFRAAAAAAAAAWUAAAAAAAABJQAAAAAAAQFBAAAAAAABAVUAAAAAAAABIQAAAAAAAgE9AAAAAAADAVEAAAAAAAIBGQAAAAAAAgEtAAAAAAAAATEAAAAAAAABYQAAAAAAAAFRAAAAAAACAW0AAAAAAAABEQAAAAAAAAE5AAAAAAAAAVEAAAAAAAABMQAAAAAAAAFNAAAAAAACAQUAAAAAAAIBLQAAAAAAAADRAAAAAAABAUEAAAAAAAEBaQAAAAAAAgEZAAAAAAACAUUAAAAAAAIBGQAAAAAAAAE5AAAAAAACAVkAAAAAAAABZQAAAAAAAAElAAAAAAAAAVEAAAAAAAEBQQAAAAAAAAFlAAAAAAACAS0AAAAAAAEBQQAAAAAAAwFdAAAAAAACAS0AAAAAAAAA+QAAAAAAAQFVAAAAAAACARkAAAAAAAAA5QAAAAAAAQFBAAAAAAADAV0AAAAAAAEBgQAAAAAAAAEVAAAAAAACAW0AAAAAAAEBVQAAAAAAAAEhAAAAAAAAATUAAAAAAAEBQQAAAAAAAgEFAAAAAAAAATkAAAAAAAEBQQAAAAAAAQFBAAAAAAABAUEAAAAAAAABEQAAAAAAAAE5AAAAAAACAS0AAAAAAAABUQAAAAAAAwGxAAAAAAADAV0AAAAAAAMBSQAAAAAAAAElAAAAAAADAUkAAAAAAAABEQAAAAAAAAFRAAAAAAAAAPkAAAAAAAABOQAAAAAAAQFVAAAAAAACAQUAAAAAAAMBSQAAAAAAAgEZAAAAAAACAYUAAAAAAAIBRQAAAAAAAAElAAAAAAAAAVEAAAAAAAMBXQAAAAAAAAERAAAAAAAAATkAAAAAAAMBXQAAAAAAAQFBAAAAAAACARkAAAAAAAIBBQAAAAAAAgFtAAAAAAABAUEAAAAAAAIBLQAAAAAAAgEtAAAAAAACAUUAAAAAAAOBgQAAAAAAAAFlAAAAAAADAUkAAAAAAAMBcQAAAAAAAAElAAAAAAACAUUAAAAAAAABZQAAAAAAAQGNAAAAAAABAY0AAAAAAAABZQAAAAAAAgEtAAAAAAABAUEAAAAAAAEBVQAAAAAAAAElAAAAAAAAATkAAAAAAAIBRQAAAAAAAAElAAAAAAACAUUAAAAAAAIBWQAAAAAAAAD5AAAAAAAAATkAAAAAAAIBEQAAAAAAAgE5AAAAAAAAAPkAAAAAAAAA5QAAAAAAAAElAAAAAAAAAOUAAAAAAAIBWQAAAAAAAAElAAAAAAACAUUAAAAAAAABZQAAAAAAAAD5AAAAAAAAAREAAAAAAAABOQAAAAAAAAD5AAAAAAAAASUAAAAAAAAA+QAAAAAAAgFFAAAAAAACAQUAAAAAAAIBLQAAAAAAAwFxAAAAAAAAASkAAAAAAAIBUQAAAAAAAAE5AAAAAAAAATkAAAAAAAIBBQAAAAAAAgEtAAAAAAABAUEAAAAAAAAA+QAAAAAAAAElAAAAAAAAAPkAAAAAAAAA3QAAAAAAAgEVAAAAAAABAUkAAAAAAAAA+QAAAAAAAAE5AAAAAAAAAREAAAAAAAIBWQAAAAAAAgEFAAAAAAACAS0AAAAAAAEBQQAAAAAAAgEtAAAAAAAAAREAAAAAAAABJQAAAAAAAAE5AAAAAAACAS0AAAAAAAMBSQAAAAAAAAERAAAAAAAAATkAAAAAAAMBSQAAAAAAAQFVAAAAAAADAUkAAAAAAAMBSQAAAAAAAAFRAAAAAAACASkAAAAAAAMBUQAAAAAAAADRAAAAAAAAAREAAAAAAAIBBQAAAAAAAgEZAAAAAAACARkAAAAAAAMBSQAAAAAAAgFFAAAAAAAAAVEAAAAAAAIBbQAAAAAAAAE5AAAAAAACARkAAAAAAAABJQAAAAAAAAFRAAAAAAAAAREAAAAAAAABOQAAAAAAAwFJAAAAAAABAWkAAAAAAAABOQAAAAAAAAE5AAAAAAABAVUAAAAAAAEBQQAAAAAAAgERAAAAAAADAUUAAAAAAAIBBQAAAAAAAgEtAAAAAAACAUUAAAAAAAABeQAAAAAAAwFVAAAAAAADAWkAAAAAAAABJQAAAAAAAAFRAAAAAAACAS0AAAAAAAEBfQAAAAAAAgFFAAAAAAAAAXkAAAAAAAIBAQAAAAAAAgE9AAAAAAACAVkAAAAAAAEBgQAAAAAAAwFVAAAAAAAAAVEAAAAAAAABOQAAAAAAAAEhAAAAAAAAASUAAAAAAAABUQAAAAAAAAElAAAAAAACAUUAAAAAAAIBWQAAAAAAAgEtAAAAAAADAUkAAAAAAAMBSQAAAAAAAQFBAAAAAAABAUEAAAAAAAAA+QAAAAAAAAElAAAAAAAAAVEAAAAAAAABOQAAAAAAAAFRAAAAAAACAVkAAAAAAAABZQAAAAAAAAGlAAAAAAADAYkAAAAAAAEBgQAAAAAAAgFtAAAAAAACAYUAAAAAAAIBWQAAAAAAAgFZAAAAAAAAAWUAAAAAAAABJQAAAAAAAgEtAAAAAAABAUEAAAAAAAEBVQAAAAAAAAEZAAAAAAAAASkAAAAAAAMBRQAAAAAAAAExAAAAAAAAAU0AAAAAAAEBZQAAAAAAAAD5AAAAAAAAAREAAAAAAAABOQAAAAAAAAERAAAAAAAAATkAAAAAAAIBEQAAAAAAAgElAAAAAAAAAQUAAAAAAAIBIQAAAAAAAwFNAAAAAAACAUUAAAAAAAEBaQAAAAAAAAD5AAAAAAAAASUAAAAAAAABWQAAAAAAAQGFAAAAAAACARkAAAAAAAEBaQAAAAAAAAElAAAAAAAAARUAAAAAAAIBZQAAAAAAAgFZAAAAAAAAAPkAAAAAAAABJQAAAAAAAgEpAAAAAAACAU0AAAAAAAABPQAAAAAAAgFRAAAAAAACAUEAAAAAAAABGQAAAAAAAAEtAAAAAAAAATEAAAAAAAABYQAAAAAAAQFpAAAAAAAAASkAAAAAAAIBCQAAAAAAAgE1AAAAAAAAASUAAAAAAAIBEQAAAAAAAgE5AAAAAAACAVUAAAAAAAABdQAAAAAAAgEZAAAAAAACAVkAAAAAAAEBQQAAAAAAAAEVAAAAAAAAAW0AAAAAAAIBGQAAAAAAAgEtAAAAAAABAVUAAAAAAAEBVQAAAAAAAAERAAAAAAACAUUAAAAAAAABFQAAAAAAAAFJAAAAAAACAS0AAAAAAAMBSQAAAAAAAAERAAAAAAABAUEAAAAAAAABSQAAAAAAAgE5AAAAAAACAVUAAAAAAAABeQAAAAAAAAE5AAAAAAABAVUAAAAAAAEBVQAAAAAAAgFZAAAAAAADAV0AAAAAAAIBLQAAAAAAAAElAAAAAAABAVUAAAAAAAMBXQAAAAAAAwFxAAAAAAAAATEAAAAAAAEBQQAAAAAAAwFdAAAAAAADAUkAAAAAAAABOQAAAAAAAwFJAAAAAAADAXEAAAAAAAMBiQAAAAAAA4GBAAAAAAACAUUAAAAAAAEBTQAAAAAAAQGBAAAAAAABAWkAAAAAAAIBRQAAAAAAAAFlAAAAAAAAAXkAAAAAAAIBaQAAAAAAAgFtAAAAAAAAAXkAAAAAAAEBgQAAAAAAAAFRAAAAAAAAAWUAAAAAAAIBWQAAAAAAAAFlAAAAAAAAAXkAAAAAAAABZQAAAAAAAgEtAAAAAAADAUkAAAAAAAMBXQAAAAAAAgEZAAAAAAACAS0AAAAAAAEBQQAAAAAAAgEZAAAAAAAAATkAAAAAAAIBRQAAAAAAAgENAAAAAAABAUUAAAAAAAIBGQAAAAAAAQFBAAAAAAACAVkAAAAAAAIBCQAAAAAAAAElAAAAAAAAASEAAAAAAAIBPQAAAAAAAAEhAAAAAAACAT0AAAAAAAABIQAAAAAAAgE9AAAAAAACAS0AAAAAAAMBXQAAAAAAAAD5AAAAAAAAARUAAAAAAAIBLQAAAAAAAAEBAAAAAAACAT0AAAAAAAAA5QAAAAAAAAERAAAAAAAAAVEAAAAAAAIBFQAAAAAAAgEtAAAAAAACARkAAAAAAAEBQQAAAAAAAgFVAAAAAAACAQUAAAAAAAABJQAAAAAAAQFBAAAAAAAAAREAAAAAAAIBLQAAAAAAAwFJAAAAAAABAVUAAAAAAAMBSQAAAAAAAAE5AAAAAAAAAVEAAAAAAAABUQAAAAAAAgENAAAAAAADAU0AAAAAAAEBRQAAAAAAAAElAAAAAAADAUkAAAAAAAABJQAAAAAAAwFJAAAAAAACAS0AAAAAAAIBBQAAAAAAAgEZAAAAAAACAUUAAAAAAAIBGQAAAAAAAgEtAAAAAAADAUEAAAAAAAIBBQAAAAAAAwFJAAAAAAACAUUAAAAAAAMBcQAAAAAAAAFRAAAAAAABAUEAAAAAAAEBaQAAAAAAAgEZAAAAAAABAUEAAAAAAAIBGQAAAAAAAQFBAAAAAAAAAT0AAAAAAAIBUQAAAAAAAAERAAAAAAAAATkAAAAAAAABEQAAAAAAAAE5AAAAAAABAUEAAAAAAAEBVQAAAAAAAgFtAAAAAAAAASUAAAAAAAABOQAAAAAAAQFVAAAAAAAAASUAAAAAAAIBPQAAAAAAAAE5AAAAAAADAUkAAAAAAAMBXQAAAAAAAAElAAAAAAACAUUAAAAAAAABOQAAAAAAAgEZAAAAAAABAWkAAAAAAAIBLQAAAAAAAAFRAAAAAAABAVUAAAAAAAEBaQAAAAAAAgEZAAAAAAAAASUAAAAAAAABOQAAAAAAAgFVAAAAAAAAAXUAAAAAAAABOQAAAAAAAQFVAAAAAAABAVUAAAAAAAABEQAAAAAAAgFFAAAAAAAAAVEAAAAAAAIBLQAAAAAAAwFdAAAAAAACAS0AAAAAAAABOQAAAAAAAgFZAAAAAAAAAREAAAAAAAABJQAAAAAAAgFFAAAAAAAAAREAAAAAAAABUQAAAAAAA4GBAAAAAAABAUEAAAAAAAABOQAAAAAAAwFhAAAAAAAAASUAAAAAAAABOQAAAAAAAgFZAAAAAAAAASUAAAAAAAABUQAAAAAAAAERAAAAAAACAUUAAAAAAAMBXQAAAAAAAAElAAAAAAADAUkAAAAAAAEBQQAAAAAAAwFdAAAAAAACAUEAAAAAAAABIQAAAAAAAAElAAAAAAACAUUAAAAAAAIBWQAAAAAAAgEtAAAAAAABAWkAAAAAAAABSQAAAAAAAgFZAAAAAAAAgYEAAAAAAAABUQAAAAAAAAFRAAAAAAAAAXkAAAAAAAABZQAAAAAAAAFRAAAAAAACAVkAAAAAAAIBWQAAAAAAAAGBAAAAAAADAV0AAAAAAAIBGQAAAAAAAAE1AAAAAAADAUkAAAAAAAABOQAAAAAAAgFFAAAAAAAAAWUAAAAAAAABGQAAAAAAAAExAAAAAAADAUUAAAAAAAABCQAAAAAAAQFNAAAAAAAAAQ0AAAAAAAABKQAAAAAAAQFFAAAAAAAAAOUAAAAAAAAA+QAAAAAAAAElAAAAAAAAAS0AAAAAAAIBQQAAAAAAAwFNAAAAAAACAWEAAAAAAAEBjQAAAAAAAgExAAAAAAABAVEAAAAAAAABIQAAAAAAAwFFAAAAAAACAVkAAAAAAAABOQAAAAAAAQFRAAAAAAACAQkAAAAAAAIBIQAAAAAAAAElAAAAAAABAUEAAAAAAAEBWQAAAAAAAgExAAAAAAADAUkAAAAAAAABHQAAAAAAAwFJAAAAAAAAATEAAAAAAAIBVQAAAAAAAAE5AAAAAAADAXkAAAAAAAIBPQAAAAAAAQFZAAAAAAACARUAAAAAAAIBXQAAAAAAAgEZAAAAAAACATUAAAAAAAIBPQAAAAAAAAFdAAAAAAABAYEAAAAAAAIBPQAAAAAAAwFBAAAAAAADAYkAAAAAAAMBSQAAAAAAAQFxAAAAAAADAYkAAAAAAAMBVQAAAAAAAAE5AAAAAAACAVEAAAAAAAIBLQAAAAAAAwFJAAAAAAACAQUAAAAAAAABHQAAAAAAAAERAAAAAAAAAVEAAAAAAAIBYQAAAAAAAgFhAAAAAAADAV0AAAAAAAMBiQAAAAAAAQGBAAAAAAACAVkA=\",\"dtype\":\"float64\",\"shape\":[721]},\"Speed\":{\"__ndarray__\":\"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\",\"dtype\":\"float64\",\"shape\":[721]},\"Total\":{\"__ndarray__\":\"AAAAAADgc0AAAAAAAFB5QAAAAAAAaIBAAAAAAABQc0AAAAAAAFB5QAAAAAAAsIBAAAAAAACgc0AAAAAAAFB5QAAAAAAAkIBAAAAAAABgaEAAAAAAAKBpQAAAAAAAsHhAAAAAAABgaEAAAAAAAKBpQAAAAAAAsHhAAAAAAABgb0AAAAAAANB1QAAAAAAA8H1AAAAAAACgb0AAAAAAANB5QAAAAAAAYHBAAAAAAACge0AAAAAAAAByQAAAAAAAYHtAAAAAAAAAdEAAAAAAAFB+QAAAAAAAwHJAAAAAAAAgfEAAAAAAADBxQAAAAAAA0HZAAAAAAACQf0AAAAAAABBxQAAAAAAA0HZAAAAAAACQf0AAAAAAADB0QAAAAAAAMH5AAAAAAACwckAAAAAAAJB/QAAAAAAA4HBAAAAAAAAwe0AAAAAAAKBuQAAAAAAAcHxAAAAAAAAAdEAAAAAAALB4QAAAAAAAoH5AAAAAAADQcUAAAAAAAFB5QAAAAAAAEHNAAAAAAAAgfEAAAAAAAJBwQAAAAAAAUHlAAAAAAAAgckAAAAAAAIB7QAAAAAAAAHRAAAAAAABAf0AAAAAAABBzQAAAAAAAcHxAAAAAAADgdUAAAAAAAFiBQAAAAAAAwHJAAAAAAAAQeEAAAAAAAOB/QAAAAAAAYHNAAAAAAAAAeUAAAAAAAEB/QAAAAAAAEHNAAAAAAABQeUAAAAAAAJB/QAAAAAAAwHJAAAAAAABgeEAAAAAAAKB+QAAAAAAA8HRAAAAAAAAYgEAAAAAAAMByQAAAAAAAYHhAAAAAAADwfkAAAAAAAKB5QAAAAAAAQH9AAAAAAACwc0AAAAAAAKB+QAAAAAAAUHRAAAAAAAAQfUAAAAAAAAB2QAAAAAAAYHNAAAAAAADAfEAAAAAAAFB0QAAAAAAAsH1AAAAAAABQdEAAAAAAAEB/QAAAAAAAEHNAAAAAAABogEAAAAAAAGBzQAAAAAAAUHlAAAAAAABAf0AAAAAAABB4QAAAAAAAgHRAAAAAAAAwfkAAAAAAAFB0QAAAAAAAsH1AAAAAAACgdEAAAAAAAAB+QAAAAAAAUHRAAAAAAABAgEAAAAAAAAB0QAAAAAAAkHpAAAAAAABwfEAAAAAAAHB8QAAAAAAAEHhAAAAAAABAdUAAAAAAAKB+QAAAAAAAkHVAAAAAAABQfkAAAAAAACB8QAAAAAAAMHtAAAAAAACgfkAAAAAAAHByQAAAAAAAgHtAAAAAAAAAdEAAAAAAACB8QAAAAAAAQHVAAAAAAABAgEAAAAAAAMB8QAAAAAAAQH9AAAAAAABwfEAAAAAAAKB+QAAAAAAA8H5AAAAAAABAf0AAAAAAAKB+QAAAAAAAAGlAAAAAAADggEAAAAAAALiAQAAAAAAAAHJAAAAAAABQdEAAAAAAAGiAQAAAAAAAaIBAAAAAAABogEAAAAAAALB4QAAAAAAAMHZAAAAAAADwfkAAAAAAADB2QAAAAAAA8H5AAAAAAAAYgEAAAAAAAOCAQAAAAAAAIIJAAAAAAAAggkAAAAAAACCCQAAAAAAAwHJAAAAAAABAekAAAAAAAMCCQAAAAAAAQIVAAAAAAADAgkAAAAAAAOBzQAAAAAAAUHlAAAAAAABogEAAAAAAAFBzQAAAAAAAUHlAAAAAAACwgEAAAAAAAKBzQAAAAAAAUHlAAAAAAACQgEAAAAAAAOBqQAAAAAAA8HlAAAAAAABgcEAAAAAAAKB7QAAAAAAAkHBAAAAAAABgeEAAAAAAAEBvQAAAAAAAYHhAAAAAAAC4gEAAAAAAAKB0QAAAAAAAwHxAAAAAAACgaUAAAAAAAEBrQAAAAAAAQGpAAAAAAACgbkAAAAAAAFB5QAAAAAAAAHRAAAAAAABgfUAAAAAAAIBxQAAAAAAA0HZAAAAAAADgf0AAAAAAAKB+QAAAAAAAQG9AAAAAAABAekAAAAAAAKB5QAAAAAAAQH9AAAAAAABAb0AAAAAAAEB1QAAAAAAAwHxAAAAAAACAdkAAAAAAAIBmQAAAAAAAkHpAAAAAAABgeEAAAAAAAEBqQAAAAAAA4HpAAAAAAABogEAAAAAAAGiAQAAAAAAAUHlAAAAAAACgfkAAAAAAADB7QAAAAAAAAHVAAAAAAABQeUAAAAAAAHB8QAAAAAAAIHJAAAAAAAAQfUAAAAAAAPB5QAAAAAAA4HpAAAAAAADgf0AAAAAAAMByQAAAAAAAIHxAAAAAAADgekAAAAAAAEB/QAAAAAAAkH9AAAAAAABAf0AAAAAAAOB6QAAAAAAAoHRAAAAAAABAf0AAAAAAAEBvQAAAAAAAoHlAAAAAAABAb0AAAAAAACB8QAAAAAAAwHdAAAAAAADAckAAAAAAAAB+QAAAAAAAoHRAAAAAAAAQfUAAAAAAABB9QAAAAAAAoHRAAAAAAABAf0AAAAAAAOCAQAAAAAAAoHRAAAAAAABAf0AAAAAAABiAQAAAAAAAEH1AAAAAAABAb0AAAAAAAEBqQAAAAAAAcHxAAAAAAAAQc0AAAAAAAIB2QAAAAAAA0HZAAAAAAACgfkAAAAAAAOCAQAAAAAAAIIJAAAAAAAAggkAAAAAAACCCQAAAAAAAwHJAAAAAAACgeUAAAAAAAMCCQAAAAAAAQIVAAAAAAABAhUAAAAAAAMCCQAAAAAAAYHNAAAAAAABQeUAAAAAAAJCAQAAAAAAAYHNAAAAAAABQeUAAAAAAAJCAQAAAAAAAYHNAAAAAAABQeUAAAAAAALiAQAAAAAAAgGtAAAAAAABAekAAAAAAAABuQAAAAAAAQHpAAAAAAABgaEAAAAAAAKBpQAAAAAAAsHhAAAAAAACgaUAAAAAAABB4QAAAAAAAgGtAAAAAAABAdUAAAAAAAAB+QAAAAAAAgGtAAAAAAABAdUAAAAAAAAB+QAAAAAAA4HBAAAAAAADgekAAAAAAAOBwQAAAAAAA4HpAAAAAAADAaEAAAAAAAGBxQAAAAAAAMIBAAAAAAADQcEAAAAAAAOB5QAAAAAAAcHJAAAAAAADAfEAAAAAAAIBxQAAAAAAAgHtAAAAAAADwhEAAAAAAAKBwQAAAAAAAgHxAAAAAAACAbUAAAAAAAABuQAAAAAAAgHZAAAAAAACgfkAAAAAAAKBtQAAAAAAAoH1AAAAAAADAZ0AAAAAAAHB3QAAAAAAAQHBAAAAAAADAd0AAAAAAAMB3QAAAAAAAwHdAAAAAAACgdEAAAAAAAOB6QAAAAAAAkIBAAAAAAACAcUAAAAAAAKB5QAAAAAAAcHJAAAAAAACwfUAAAAAAAFB5QAAAAAAAUHlAAAAAAAAAeUAAAAAAAAB5QAAAAAAAAHlAAAAAAADgckAAAAAAADB9QAAAAAAAEHNAAAAAAADAfEAAAAAAAAB5QAAAAAAAQH9AAAAAAAAQc0AAAAAAAMB8QAAAAAAAYH1AAAAAAACgdEAAAAAAAGB9QAAAAAAAgHZAAAAAAAAgckAAAAAAAEB1QAAAAAAAQIBAAAAAAADwdEAAAAAAALB9QAAAAAAAYHNAAAAAAACgfkAAAAAAAKB8QAAAAAAAoHxAAAAAAACAe0AAAAAAAIB7QAAAAAAAAHJAAAAAAABAfUAAAAAAAEBzQAAAAAAAQH1AAAAAAADAckAAAAAAAEB/QAAAAAAAMHZAAAAAAADwfkAAAAAAADB2QAAAAAAA8H5AAAAAAAAAaUAAAAAAAOCAQAAAAAAAQHpAAAAAAACAe0AAAAAAAHByQAAAAAAAcHxAAAAAAABwckAAAAAAAHB8QAAAAAAAwHxAAAAAAACQekAAAAAAABB9QAAAAAAAQHBAAAAAAADAckAAAAAAAAB+QAAAAAAAIHJAAAAAAACgeUAAAAAAAJCAQAAAAAAAkHVAAAAAAABQfkAAAAAAAFB+QAAAAAAAUH5AAAAAAACgdEAAAAAAAMByQAAAAAAAQHpAAAAAAADAgkAAAAAAAMByQAAAAAAAQHpAAAAAAADAgkAAAAAAACCCQAAAAAAAIIJAAAAAAAAggkAAAAAAAMCCQAAAAAAAwIJAAAAAAADwhEAAAAAAAPCEQAAAAAAAQIVAAAAAAADAgkAAAAAAAMCCQAAAAAAA4HNAAAAAAABQeUAAAAAAAGiAQAAAAAAAUHNAAAAAAABQeUAAAAAAALCAQAAAAAAAoHNAAAAAAABQeUAAAAAAAJCAQAAAAAAAoG5AAAAAAABAdUAAAAAAAFB+QAAAAAAAQG9AAAAAAACgeUAAAAAAAEBoQAAAAAAAAHhAAAAAAABwcEAAAAAAALB2QAAAAAAAWIBAAAAAAACAcUAAAAAAABiAQAAAAAAA4HVAAAAAAADwfkAAAAAAAOB1QAAAAAAA8H5AAAAAAAAAbEAAAAAAAIB6QAAAAAAAgHpAAAAAAACAbkAAAAAAAKB9QAAAAAAAUHlAAAAAAACgdEAAAAAAAPB+QAAAAAAAMHFAAAAAAAAgfEAAAAAAAFB0QAAAAAAAsH1AAAAAAAAgfkAAAAAAAMB1QAAAAAAAIH9AAAAAAADgdUAAAAAAAAB+QAAAAAAA8H5AAAAAAACQf0AAAAAAAGBzQAAAAAAAQHxAAAAAAADQcUAAAAAAAJB0QAAAAAAA8H1AAAAAAADAckAAAAAAAEB/QAAAAAAAIHJAAAAAAABgc0AAAAAAAIBrQAAAAAAAsHlAAAAAAABQfkAAAAAAAMByQAAAAAAAoHlAAAAAAADAgkAAAAAAAGB4QAAAAAAA0HFAAAAAAABogEAAAAAAAKB0QAAAAAAAaIBAAAAAAACgdEAAAAAAAEB/QAAAAAAAwHJAAAAAAACgfkAAAAAAAGB8QAAAAAAAoHRAAAAAAADAfEAAAAAAAJB1QAAAAAAA4HRAAAAAAADgfkAAAAAAAOB/QAAAAAAAuIBAAAAAAAAYgEAAAAAAALiAQAAAAAAAuIBAAAAAAADggEAAAAAAAOCAQAAAAAAACIFAAAAAAAAYgEAAAAAAAGiAQAAAAAAAaIBAAAAAAADgf0AAAAAAAJCAQAAAAAAAuIBAAAAAAAAwgEAAAAAAAGiAQAAAAAAAaIBAAAAAAAAAfkAAAAAAAIB7QAAAAAAAIIJAAAAAAAAggkAAAAAAACCCQAAAAAAAQIVAAAAAAABAhUAAAAAAAMCCQAAAAAAA8IRAAAAAAABAhUAAAAAAAMCCQAAAAAAAAH5AAAAAAADAgkAAAAAAAMCCQAAAAAAAwIJAAAAAAACAhkAAAAAAAMCCQAAAAAAAQHNAAAAAAADQeUAAAAAAAICAQAAAAAAAQHNAAAAAAAAgekAAAAAAAICAQAAAAAAAQHNAAAAAAADQeUAAAAAAAICAQAAAAAAA4G9AAAAAAABAekAAAAAAADBxQAAAAAAAIHdAAAAAAABAf0AAAAAAAJBxQAAAAAAA4HtAAAAAAADAc0AAAAAAACB/QAAAAAAAwHNAAAAAAAAgf0AAAAAAAMBzQAAAAAAAIH9AAAAAAABAckAAAAAAAHB+QAAAAAAAgHBAAAAAAABgdkAAAAAAAIB+QAAAAAAAcHJAAAAAAAAQf0AAAAAAAIBxQAAAAAAAYHhAAAAAAAAYgEAAAAAAAJBzQAAAAAAAkHpAAAAAAACAdEAAAAAAAMB/QAAAAAAA0HtAAAAAAAAQc0AAAAAAAFB5QAAAAAAAkH9AAAAAAABgckAAAAAAAAB4QAAAAAAA0H9AAAAAAAAQfUAAAAAAABB9QAAAAAAAYHNAAAAAAADAd0AAAAAAAEB/QAAAAAAAQHBAAAAAAACAdkAAAAAAAFB+QAAAAAAAgHFAAAAAAAAAfkAAAAAAAIBxQAAAAAAAAH5AAAAAAADAfEAAAAAAAEByQAAAAAAA8HVAAAAAAAA4gEAAAAAAALBzQAAAAAAAAH5AAAAAAADQfEAAAAAAAFB0QAAAAAAAsH1AAAAAAADAdUAAAAAAAIB+QAAAAAAAoH5AAAAAAADwckAAAAAAADB+QAAAAAAAMHZAAAAAAADwfkAAAAAAABB5QAAAAAAAuIFAAAAAAACQdEAAAAAAAKB9QAAAAAAAoHRAAAAAAADgf0AAAAAAAMByQAAAAAAAYH1AAAAAAAAgckAAAAAAAGB4QAAAAAAAoH5AAAAAAAAgckAAAAAAACB3QAAAAAAAoH5AAAAAAAAQc0AAAAAAAJB9QAAAAAAAEHNAAAAAAACweEAAAAAAALiAQAAAAAAA8HRAAAAAAACwfUAAAAAAAMB6QAAAAAAAsHNAAAAAAADwfkAAAAAAAGByQAAAAAAAAH1AAAAAAADwdEAAAAAAAAB+QAAAAAAAYH1AAAAAAADwc0AAAAAAAIB9QAAAAAAAEHNAAAAAAACQfkAAAAAAAMByQAAAAAAAgHtAAAAAAABAgEAAAAAAADBxQAAAAAAAUHlAAAAAAAAYgEAAAAAAAPB0QAAAAAAAUH5AAAAAAAAwcUAAAAAAACB3QAAAAAAAQIBAAAAAAAAAdEAAAAAAAKB5QAAAAAAA4IBAAAAAAAAQc0AAAAAAAFB+QAAAAAAAUH5AAAAAAAAQc0AAAAAAAPB+QAAAAAAAcH1AAAAAAADgdUAAAAAAAOB/QAAAAAAAUH5AAAAAAADwckAAAAAAADB+QAAAAAAAQHVAAAAAAACgfkAAAAAAAKB+QAAAAAAA4HVAAAAAAADgf0AAAAAAACB3QAAAAAAA4H9AAAAAAABAfkAAAAAAAEB+QAAAAAAAwHJAAAAAAABAekAAAAAAAMCCQAAAAAAAgHZAAAAAAAAwgUAAAAAAACCCQAAAAAAAIIJAAAAAAAAggkAAAAAAACCCQAAAAAAAIIJAAAAAAABAhUAAAAAAAECFQAAAAAAAwIJAAAAAAACghEAAAAAAACCCQAAAAAAAwIJAAAAAAADAgkAAAAAAAJBzQAAAAAAAUHlAAAAAAACQgEAAAAAAADBzQAAAAAAAkHlAAAAAAACwgEAAAAAAAKBzQAAAAAAAUHlAAAAAAACQgEAAAAAAAKBtQAAAAAAAcHpAAAAAAABgcUAAAAAAAOB3QAAAAAAAMH9AAAAAAAAAaUAAAAAAAKBqQAAAAAAAsHlAAAAAAAAQd0AAAAAAALB/QAAAAAAA8HJAAAAAAAAwd0AAAAAAAECBQAAAAAAA4HVAAAAAAACYgEAAAAAAAMB1QAAAAAAA8H5AAAAAAACAfUAAAAAAADB2QAAAAAAAIH1AAAAAAABQdEAAAAAAAAB8QAAAAAAAQIBAAAAAAABQdUAAAAAAAOB8QAAAAAAAUHVAAAAAAAAAfkAAAAAAAAByQAAAAAAAIH5AAAAAAAAgc0AAAAAAAEB/QAAAAAAAAHRAAAAAAADgfkAAAAAAAKB0QAAAAAAAQH9AAAAAAAAQckAAAAAAABB+QAAAAAAAoHZAAAAAAABIgEAAAAAAAKB2QAAAAAAASIBAAAAAAABogEAAAAAAAEB/QAAAAAAA8HpAAAAAAABAf0AAAAAAAMByQAAAAAAAQHxAAAAAAADAgkAAAAAAAGB9QAAAAAAAUHNAAAAAAACgfUAAAAAAAPB0QAAAAAAA4H5AAAAAAAAAc0AAAAAAABCAQAAAAAAAoG5AAAAAAAC4gEAAAAAAAECFQAAAAAAAQIVAAAAAAADAgkAAAAAAAMCCQAAAAAAAwIJAAAAAAADAgkA=\",\"dtype\":\"float64\",\"shape\":[721]},\"Type\":[\"GrassPoison\",\"GrassPoison\",\"GrassPoison\",\"Fire\",\"Fire\",\"FireFlying\",\"Water\",\"Water\",\"Water\",\"Bug\",\"Bug\",\"BugFlying\",\"BugPoison\",\"BugPoison\",\"BugPoison\",\"NormalFlying\",\"NormalFlying\",\"NormalFlying\",\"Normal\",\"Normal\",\"NormalFlying\",\"NormalFlying\",\"Poison\",\"Poison\",\"Electric\",\"Electric\",\"Ground\",\"Ground\",\"Poison\",\"Poison\",\"PoisonGround\",\"Poison\",\"Poison\",\"PoisonGround\",\"Fairy\",\"Fairy\",\"Fire\",\"Fire\",\"NormalFairy\",\"NormalFairy\",\"PoisonFlying\",\"PoisonFlying\",\"GrassPoison\",\"GrassPoison\",\"GrassPoison\",\"BugGrass\",\"BugGrass\",\"BugPoison\",\"BugPoison\",\"Ground\",\"Ground\",\"Normal\",\"Normal\",\"Water\",\"Water\",\"Fighting\",\"Fighting\",\"Fire\",\"Fire\",\"Water\",\"Water\",\"WaterFighting\",\"Psychic\",\"Psychic\",\"Psychic\",\"Fighting\",\"Fighting\",\"Fighting\",\"GrassPoison\",\"GrassPoison\",\"GrassPoison\",\"WaterPoison\",\"WaterPoison\",\"RockGround\",\"RockGround\",\"RockGround\",\"Fire\",\"Fire\",\"WaterPsychic\",\"WaterPsychic\",\"ElectricSteel\",\"ElectricSteel\",\"NormalFlying\",\"NormalFlying\",\"NormalFlying\",\"Water\",\"WaterIce\",\"Poison\",\"Poison\",\"Water\",\"WaterIce\",\"GhostPoison\",\"GhostPoison\",\"GhostPoison\",\"RockGround\",\"Psychic\",\"Psychic\",\"Water\",\"Water\",\"Electric\",\"Electric\",\"GrassPsychic\",\"GrassPsychic\",\"Ground\",\"Ground\",\"Fighting\",\"Fighting\",\"Normal\",\"Poison\",\"Poison\",\"GroundRock\",\"GroundRock\",\"Normal\",\"Grass\",\"Normal\",\"Water\",\"Water\",\"Water\",\"Water\",\"Water\",\"WaterPsychic\",\"PsychicFairy\",\"BugFlying\",\"IcePsychic\",\"Electric\",\"Fire\",\"Bug\",\"Normal\",\"Water\",\"WaterFlying\",\"WaterIce\",\"Normal\",\"Normal\",\"Water\",\"Electric\",\"Fire\",\"Normal\",\"RockWater\",\"RockWater\",\"RockWater\",\"RockWater\",\"RockFlying\",\"Normal\",\"IceFlying\",\"ElectricFlying\",\"FireFlying\",\"Dragon\",\"Dragon\",\"DragonFlying\",\"Psychic\",\"Psychic\",\"Grass\",\"Grass\",\"Grass\",\"Fire\",\"Fire\",\"Fire\",\"Water\",\"Water\",\"Water\",\"Normal\",\"Normal\",\"NormalFlying\",\"NormalFlying\",\"BugFlying\",\"BugFlying\",\"BugPoison\",\"BugPoison\",\"PoisonFlying\",\"WaterElectric\",\"WaterElectric\",\"Electric\",\"Fairy\",\"NormalFairy\",\"Fairy\",\"FairyFlying\",\"PsychicFlying\",\"PsychicFlying\",\"Electric\",\"Electric\",\"Electric\",\"Grass\",\"WaterFairy\",\"WaterFairy\",\"Rock\",\"Water\",\"GrassFlying\",\"GrassFlying\",\"GrassFlying\",\"Normal\",\"Grass\",\"Grass\",\"BugFlying\",\"WaterGround\",\"WaterGround\",\"Psychic\",\"Dark\",\"DarkFlying\",\"WaterPsychic\",\"Ghost\",\"Psychic\",\"Psychic\",\"NormalPsychic\",\"Bug\",\"BugSteel\",\"Normal\",\"GroundFlying\",\"SteelGround\",\"Fairy\",\"Fairy\",\"WaterPoison\",\"BugSteel\",\"BugRock\",\"BugFighting\",\"DarkIce\",\"Normal\",\"Normal\",\"Fire\",\"FireRock\",\"IceGround\",\"IceGround\",\"WaterRock\",\"Water\",\"Water\",\"IceFlying\",\"WaterFlying\",\"SteelFlying\",\"DarkFire\",\"DarkFire\",\"WaterDragon\",\"Ground\",\"Ground\",\"Normal\",\"Normal\",\"Normal\",\"Fighting\",\"Fighting\",\"IcePsychic\",\"Electric\",\"Fire\",\"Normal\",\"Normal\",\"Electric\",\"Fire\",\"Water\",\"RockGround\",\"RockGround\",\"RockDark\",\"PsychicFlying\",\"FireFlying\",\"PsychicGrass\",\"Grass\",\"Grass\",\"Grass\",\"Fire\",\"FireFighting\",\"FireFighting\",\"Water\",\"WaterGround\",\"WaterGround\",\"Dark\",\"Dark\",\"Normal\",\"Normal\",\"Bug\",\"Bug\",\"BugFlying\",\"Bug\",\"BugPoison\",\"WaterGrass\",\"WaterGrass\",\"WaterGrass\",\"Grass\",\"GrassDark\",\"GrassDark\",\"NormalFlying\",\"NormalFlying\",\"WaterFlying\",\"WaterFlying\",\"PsychicFairy\",\"PsychicFairy\",\"PsychicFairy\",\"BugWater\",\"BugFlying\",\"Grass\",\"GrassFighting\",\"Normal\",\"Normal\",\"Normal\",\"BugGround\",\"BugFlying\",\"BugGhost\",\"Normal\",\"Normal\",\"Normal\",\"Fighting\",\"Fighting\",\"NormalFairy\",\"Rock\",\"Normal\",\"Normal\",\"DarkGhost\",\"SteelFairy\",\"SteelRock\",\"SteelRock\",\"SteelRock\",\"FightingPsychic\",\"FightingPsychic\",\"Electric\",\"Electric\",\"Electric\",\"Electric\",\"Bug\",\"Bug\",\"GrassPoison\",\"Poison\",\"Poison\",\"WaterDark\",\"WaterDark\",\"Water\",\"Water\",\"FireGround\",\"FireGround\",\"Fire\",\"Psychic\",\"Psychic\",\"Normal\",\"Ground\",\"GroundDragon\",\"GroundDragon\",\"Grass\",\"GrassDark\",\"NormalFlying\",\"DragonFlying\",\"Normal\",\"Poison\",\"RockPsychic\",\"RockPsychic\",\"WaterGround\",\"WaterGround\",\"Water\",\"WaterDark\",\"GroundPsychic\",\"GroundPsychic\",\"RockGrass\",\"RockGrass\",\"RockBug\",\"RockBug\",\"Water\",\"Water\",\"Normal\",\"Normal\",\"Ghost\",\"Ghost\",\"Ghost\",\"Ghost\",\"GrassFlying\",\"Psychic\",\"Dark\",\"Psychic\",\"Ice\",\"Ice\",\"IceWater\",\"IceWater\",\"IceWater\",\"Water\",\"Water\",\"Water\",\"WaterRock\",\"Water\",\"Dragon\",\"Dragon\",\"DragonFlying\",\"SteelPsychic\",\"SteelPsychic\",\"SteelPsychic\",\"Rock\",\"Ice\",\"Steel\",\"DragonPsychic\",\"DragonPsychic\",\"Water\",\"Ground\",\"DragonFlying\",\"SteelPsychic\",\"Psychic\",\"Grass\",\"Grass\",\"GrassGround\",\"Fire\",\"FireFighting\",\"FireFighting\",\"Water\",\"Water\",\"WaterSteel\",\"NormalFlying\",\"NormalFlying\",\"NormalFlying\",\"Normal\",\"NormalWater\",\"Bug\",\"Bug\",\"Electric\",\"Electric\",\"Electric\",\"GrassPoison\",\"GrassPoison\",\"Rock\",\"Rock\",\"RockSteel\",\"RockSteel\",\"Bug\",\"BugGrass\",\"BugFlying\",\"BugFlying\",\"BugFlying\",\"Electric\",\"Water\",\"Water\",\"Grass\",\"Grass\",\"Water\",\"WaterGround\",\"Normal\",\"GhostFlying\",\"GhostFlying\",\"Normal\",\"Normal\",\"Ghost\",\"DarkFlying\",\"Normal\",\"Normal\",\"Psychic\",\"PoisonDark\",\"PoisonDark\",\"SteelPsychic\",\"SteelPsychic\",\"Rock\",\"PsychicFairy\",\"Normal\",\"NormalFlying\",\"GhostDark\",\"DragonGround\",\"DragonGround\",\"DragonGround\",\"Normal\",\"Fighting\",\"FightingSteel\",\"Ground\",\"Ground\",\"PoisonBug\",\"PoisonDark\",\"PoisonFighting\",\"PoisonFighting\",\"Grass\",\"Water\",\"Water\",\"WaterFlying\",\"GrassIce\",\"GrassIce\",\"DarkIce\",\"ElectricSteel\",\"Normal\",\"GroundRock\",\"Grass\",\"Electric\",\"Fire\",\"FairyFlying\",\"BugFlying\",\"Grass\",\"Ice\",\"GroundFlying\",\"IceGround\",\"Normal\",\"PsychicFighting\",\"RockSteel\",\"Ghost\",\"IceGhost\",\"ElectricGhost\",\"Psychic\",\"Psychic\",\"Psychic\",\"SteelDragon\",\"WaterDragon\",\"FireSteel\",\"Normal\",\"GhostDragon\",\"Psychic\",\"Water\",\"Water\",\"Dark\",\"Grass\",\"Normal\",\"PsychicFire\",\"Grass\",\"Grass\",\"Grass\",\"Fire\",\"FireFighting\",\"FireFighting\",\"Water\",\"Water\",\"Water\",\"Normal\",\"Normal\",\"Normal\",\"Normal\",\"Normal\",\"Dark\",\"Dark\",\"Grass\",\"Grass\",\"Fire\",\"Fire\",\"Water\",\"Water\",\"Psychic\",\"Psychic\",\"NormalFlying\",\"NormalFlying\",\"NormalFlying\",\"Electric\",\"Electric\",\"Rock\",\"Rock\",\"Rock\",\"PsychicFlying\",\"PsychicFlying\",\"Ground\",\"GroundSteel\",\"Normal\",\"Fighting\",\"Fighting\",\"Fighting\",\"Water\",\"WaterGround\",\"WaterGround\",\"Fighting\",\"Fighting\",\"BugGrass\",\"BugGrass\",\"BugGrass\",\"BugPoison\",\"BugPoison\",\"BugPoison\",\"GrassFairy\",\"GrassFairy\",\"Grass\",\"Grass\",\"Water\",\"GroundDark\",\"GroundDark\",\"GroundDark\",\"Fire\",\"Fire\",\"Grass\",\"BugRock\",\"BugRock\",\"DarkFighting\",\"DarkFighting\",\"PsychicFlying\",\"Ghost\",\"Ghost\",\"WaterRock\",\"WaterRock\",\"RockFlying\",\"RockFlying\",\"Poison\",\"Poison\",\"Dark\",\"Dark\",\"Normal\",\"Normal\",\"Psychic\",\"Psychic\",\"Psychic\",\"Psychic\",\"Psychic\",\"Psychic\",\"WaterFlying\",\"WaterFlying\",\"Ice\",\"Ice\",\"Ice\",\"NormalGrass\",\"NormalGrass\",\"ElectricFlying\",\"Bug\",\"BugSteel\",\"GrassPoison\",\"GrassPoison\",\"WaterGhost\",\"WaterGhost\",\"Water\",\"BugElectric\",\"BugElectric\",\"GrassSteel\",\"GrassSteel\",\"Steel\",\"Steel\",\"Steel\",\"Electric\",\"Electric\",\"Electric\",\"Psychic\",\"Psychic\",\"GhostFire\",\"GhostFire\",\"GhostFire\",\"Dragon\",\"Dragon\",\"Dragon\",\"Ice\",\"Ice\",\"Ice\",\"Bug\",\"Bug\",\"GroundElectric\",\"Fighting\",\"Fighting\",\"Dragon\",\"GroundGhost\",\"GroundGhost\",\"DarkSteel\",\"DarkSteel\",\"Normal\",\"NormalFlying\",\"NormalFlying\",\"DarkFlying\",\"DarkFlying\",\"Fire\",\"BugSteel\",\"DarkDragon\",\"DarkDragon\",\"DarkDragon\",\"BugFire\",\"BugFire\",\"SteelFighting\",\"RockFighting\",\"GrassFighting\",\"Flying\",\"ElectricFlying\",\"DragonFire\",\"DragonElectric\",\"GroundFlying\",\"DragonIce\",\"WaterFighting\",\"NormalPsychic\",\"BugSteel\",\"Grass\",\"Grass\",\"GrassFighting\",\"Fire\",\"Fire\",\"FirePsychic\",\"Water\",\"Water\",\"WaterDark\",\"Normal\",\"NormalGround\",\"NormalFlying\",\"FireFlying\",\"FireFlying\",\"Bug\",\"Bug\",\"BugFlying\",\"FireNormal\",\"FireNormal\",\"Fairy\",\"Fairy\",\"Fairy\",\"Grass\",\"Grass\",\"Fighting\",\"FightingDark\",\"Normal\",\"Psychic\",\"Psychic\",\"SteelGhost\",\"SteelGhost\",\"SteelGhost\",\"Fairy\",\"Fairy\",\"Fairy\",\"Fairy\",\"DarkPsychic\",\"DarkPsychic\",\"RockWater\",\"RockWater\",\"PoisonWater\",\"PoisonDragon\",\"Water\",\"Water\",\"ElectricNormal\",\"ElectricNormal\",\"RockDragon\",\"RockDragon\",\"RockIce\",\"RockIce\",\"Fairy\",\"FightingFlying\",\"ElectricFairy\",\"RockFairy\",\"Dragon\",\"Dragon\",\"Dragon\",\"SteelFairy\",\"GhostGrass\",\"GhostGrass\",\"GhostGrass\",\"GhostGrass\",\"Ice\",\"Ice\",\"FlyingDragon\",\"FlyingDragon\",\"Fairy\",\"DarkFlying\",\"DragonGround\",\"RockFairy\",\"PsychicGhost\",\"FireWater\"],\"index\":[0,1,2,4,5,6,9,10,11,13,14,15,16,17,18,20,21,22,24,25,26,27,28,29,30,31,32,33,34,35,36,37,38,39,40,41,42,43,44,45,46,47,48,49,50,51,52,53,54,55,56,57,58,59,60,61,62,63,64,65,66,67,68,69,70,72,73,74,75,76,77,78,79,80,81,82,83,84,85,86,88,89,90,91,92,93,94,95,96,97,98,99,100,101,103,104,105,106,107,108,109,110,111,112,113,114,115,116,117,118,119,120,121,122,123,125,126,127,128,129,130,131,132,133,134,135,136,138,139,140,142,143,144,145,146,147,148,149,150,151,152,153,155,156,157,158,159,160,161,162,165,166,167,168,169,170,171,172,173,174,175,176,177,178,179,180,181,182,183,184,185,186,187,188,189,190,191,192,193,194,195,197,198,199,200,201,202,203,204,205,206,207,208,209,210,211,212,213,214,215,216,217,218,219,220,221,222,223,225,226,227,228,230,231,233,234,235,236,237,238,239,240,241,242,243,244,245,246,247,249,250,251,252,253,254,255,256,257,258,259,260,261,262,263,264,265,266,267,269,270,271,272,273,274,276,277,278,280,281,282,284,285,286,287,288,289,290,291,292,293,294,295,296,297,298,299,300,301,302,303,304,305,307,308,309,310,311,312,313,314,315,316,317,318,319,320,321,322,323,324,325,326,328,330,331,332,334,335,337,338,340,341,342,343,344,345,346,347,348,350,351,352,353,355,356,357,358,359,360,361,362,363,364,365,367,368,369,370,371,372,373,374,375,376,377,378,379,380,381,382,383,384,385,386,388,389,390,391,392,394,395,396,398,399,400,401,402,403,404,405,406,407,408,410,411,412,414,415,416,417,419,421,423,425,427,428,432,433,434,435,436,437,438,439,440,441,442,443,444,445,446,447,448,449,450,451,452,453,454,455,456,457,458,461,462,463,464,465,466,467,468,469,470,471,472,473,474,475,477,478,479,480,481,482,483,484,485,486,487,488,489,490,491,492,493,495,496,497,499,500,501,502,503,504,505,506,507,508,509,510,512,513,514,515,516,517,518,519,520,521,522,523,524,525,526,528,529,530,531,537,538,539,540,541,542,543,544,546,547,548,549,550,552,553,554,555,556,557,558,559,560,561,562,563,564,565,566,567,568,569,570,571,572,573,574,575,576,577,578,579,580,581,582,583,584,585,586,587,588,589,590,592,593,594,595,596,597,598,599,600,601,602,603,604,605,606,607,608,609,610,611,612,613,614,615,617,618,619,620,621,622,623,624,625,626,627,628,629,630,631,632,633,634,635,636,637,638,639,640,641,642,643,644,645,646,647,648,649,650,651,652,653,654,655,656,657,658,659,660,661,662,663,664,665,666,667,668,669,670,671,672,673,674,675,676,677,678,679,680,681,682,683,684,685,686,687,688,689,690,691,692,693,694,695,696,697,698,699,700,701,702,704,706,707,708,710,713,715,717,718,719,720,721,722,723,724,725,726,727,728,729,730,731,732,733,734,735,736,737,738,739,740,741,742,743,744,745,746,748,749,750,752,753,754,755,756,757,758,759,760,761,762,763,764,765,766,767,768,769,770,771,772,773,774,775,776,777,778,779,780,784,788,789,790,791,792,793,794,795,797,799]}},\"id\":\"97738d91-a783-4480-8ff2-2f515d2787b9\",\"type\":\"ColumnDataSource\"},{\"attributes\":{\"plot\":null,\"text\":\"Pokemon's Power\"},\"id\":\"ee923523-454a-4fce-ac69-56dc166b3590\",\"type\":\"Title\"},{\"attributes\":{\"dimension\":1,\"plot\":{\"id\":\"d1c6bc90-fdc3-4e1b-be7c-c031ee0344bd\",\"subtype\":\"Figure\",\"type\":\"Plot\"},\"ticker\":{\"id\":\"c020edf3-e047-4e5d-8ddf-6b7a292ef2f2\",\"type\":\"BasicTicker\"}},\"id\":\"42adb9c7-ce6c-48f9-a52c-49ce01746ef5\",\"type\":\"Grid\"},{\"attributes\":{\"overlay\":{\"id\":\"a1d2e81a-a465-4fb5-aaf6-6d2b56307e04\",\"type\":\"BoxAnnotation\"},\"plot\":{\"id\":\"d1c6bc90-fdc3-4e1b-be7c-c031ee0344bd\",\"subtype\":\"Figure\",\"type\":\"Plot\"}},\"id\":\"eb16fe5e-3e8a-4ba3-acfb-2ca45ee745af\",\"type\":\"BoxZoomTool\"},{\"attributes\":{\"plot\":{\"id\":\"d1c6bc90-fdc3-4e1b-be7c-c031ee0344bd\",\"subtype\":\"Figure\",\"type\":\"Plot\"}},\"id\":\"2f5b600e-bb74-4878-9451-4653c2db2717\",\"type\":\"HelpTool\"},{\"attributes\":{\"data_source\":{\"id\":\"97738d91-a783-4480-8ff2-2f515d2787b9\",\"type\":\"ColumnDataSource\"},\"glyph\":{\"id\":\"acd7b8c6-b0b4-4a15-9f06-068d51f2a624\",\"type\":\"Circle\"},\"hover_glyph\":null,\"muted_glyph\":null,\"nonselection_glyph\":{\"id\":\"1debb437-8e80-480a-8f88-8756b662ab4b\",\"type\":\"Circle\"},\"selection_glyph\":null},\"id\":\"59b68acd-13ff-4e2c-b655-2c15e9af523f\",\"type\":\"GlyphRenderer\"},{\"attributes\":{\"axis_label\":\"Pokedex Number\",\"formatter\":{\"id\":\"ee4f602e-0dff-493d-9eac-725145e5e6b2\",\"type\":\"BasicTickFormatter\"},\"plot\":{\"id\":\"d1c6bc90-fdc3-4e1b-be7c-c031ee0344bd\",\"subtype\":\"Figure\",\"type\":\"Plot\"},\"ticker\":{\"id\":\"c9a1b1b1-7e50-4918-b34b-175bdb846986\",\"type\":\"BasicTicker\"}},\"id\":\"01e62ba3-48c1-4eb5-b7ef-d7763aaa225c\",\"type\":\"LinearAxis\"},{\"attributes\":{\"callback\":null},\"id\":\"dd424031-4b17-4ed0-98d1-3d64bbed3bf1\",\"type\":\"DataRange1d\"}],\"root_ids\":[\"d1c6bc90-fdc3-4e1b-be7c-c031ee0344bd\"]},\"title\":\"Bokeh Application\",\"version\":\"0.12.5\"}};\n",
       "            var render_items = [{\"docid\":\"19ebda04-3209-4961-a1ce-5924123aa83b\",\"elementid\":\"f037004c-ea5c-47c1-a9d3-e792e5f5dc86\",\"modelid\":\"d1c6bc90-fdc3-4e1b-be7c-c031ee0344bd\"}];\n",
       "            \n",
       "            Bokeh.embed.embed_items(docs_json, render_items);\n",
       "          };\n",
       "          if (document.readyState != \"loading\") fn();\n",
       "          else document.addEventListener(\"DOMContentLoaded\", fn);\n",
       "        })();\n",
       "      },\n",
       "      function(Bokeh) {\n",
       "      }\n",
       "    ];\n",
       "  \n",
       "    function run_inline_js() {\n",
       "      \n",
       "      if ((window.Bokeh !== undefined) || (force === true)) {\n",
       "        for (var i = 0; i < inline_js.length; i++) {\n",
       "          inline_js[i](window.Bokeh);\n",
       "        }if (force === true) {\n",
       "          display_loaded();\n",
       "        }} else if (Date.now() < window._bokeh_timeout) {\n",
       "        setTimeout(run_inline_js, 100);\n",
       "      } else if (!window._bokeh_failed_load) {\n",
       "        console.log(\"Bokeh: BokehJS failed to load within specified timeout.\");\n",
       "        window._bokeh_failed_load = true;\n",
       "      } else if (force !== true) {\n",
       "        var cell = $(document.getElementById(\"f037004c-ea5c-47c1-a9d3-e792e5f5dc86\")).parents('.cell').data().cell;\n",
       "        cell.output_area.append_execute_result(NB_LOAD_WARNING)\n",
       "      }\n",
       "  \n",
       "    }\n",
       "  \n",
       "    if (window._bokeh_is_loading === 0) {\n",
       "      console.log(\"Bokeh: BokehJS loaded, going straight to plotting\");\n",
       "      run_inline_js();\n",
       "    } else {\n",
       "      load_libs(js_urls, function() {\n",
       "        console.log(\"Bokeh: BokehJS plotting callback run at\", now());\n",
       "        run_inline_js();\n",
       "      });\n",
       "    }\n",
       "  }(this));\n",
       "</script>"
      ]
     },
     "metadata": {},
     "output_type": "display_data"
    }
   ],
   "source": [
    "from bokeh.plotting import figure, show, ColumnDataSource\n",
    "from bokeh.io import output_notebook\n",
    "from bokeh.models import HoverTool\n",
    "\n",
    "output_notebook()\n",
    "poke_col = ColumnDataSource(poke_info)\n",
    "\n",
    "\n",
    "p=figure(title=\"Pokemon's Power\")\n",
    "p.yaxis.axis_label = 'Total Power'\n",
    "p.xaxis.axis_label = 'Pokedex Number'\n",
    "p.circle('PokedexNumber' ,'Total', source=poke_col)\n",
    "p.add_tools(HoverTool(tooltips=[('Pokedex', '@PokedexNumber'),\\\n",
    "                                ('Name', '@Name'),\\\n",
    "                                ('Total', '@Total')]))\n",
    "show(p)"
   ]
  },
  {
   "cell_type": "markdown",
   "metadata": {},
   "source": [
    "<img src=\"http://imgur.com/xDpSobf.png\" style=\"float: left; margin: 25px 15px 0px 0px; height: 25px\">\n",
    "\n",
    "## 10. Calibrate the frequency of Pokemon\n",
    "\n",
    "The design team wants you to make the powerful Pokemon rare, and the weaklings more common. How would you set the probability $p_i$ of finding Pokemon *i* each time a player visits a gym?\n",
    "\n",
    "Write a function that takes in a Pokedex number and returns a value $p_i$ for that character.\n",
    "\n",
    "Hint: there are many ways you could do this. What do _you_ think makes sense? Start with simplifying assumptions: for example, you could assume that the probabilities of encountering any two Pokemon on one visit to a gym are independent of each other."
   ]
  },
  {
   "cell_type": "code",
   "execution_count": 43,
   "metadata": {},
   "outputs": [
    {
     "data": {
      "text/plain": [
       "0.00065045558920893"
      ]
     },
     "execution_count": 43,
     "metadata": {},
     "output_type": "execute_result"
    }
   ],
   "source": [
    "max_power = max([[v for k,v in dicte.items() if k=='Total'][0] for dicte in parsed_poke_info.values()])\n",
    "min_power = min([[v for k,v in dicte.items() if k=='Total'][0] for dicte in parsed_poke_info.values()])\n",
    "range_power = max_power-min_power\n",
    "no_of_pokemon = len(parsed_poke_info)\n",
    "\n",
    "import numpy as np\n",
    "\n",
    "def set_prob (poke_info, pdNum):\n",
    "    \"\"\"\n",
    "    set_prob\n",
    "    \n",
    "    Args:\n",
    "        poke_info(dict): dictionary containing pokdex info\n",
    "        pokedexNumber(int): unique identifier of pokedex number\n",
    "        \n",
    "    Return:\n",
    "        (float) probability of finding a probability of a pokemon\n",
    "    \"\"\"\n",
    "    # Set the probability as a function of the total power of the pokemon over the overall total power\n",
    "    global max_power, min_power, range_power, no_of_pokemon\n",
    "    if poke_info.get(pdNum) != None:\n",
    "        return (np.exp((-poke_info[pdNum]['Total'])/(range_power)) / no_of_pokemon)\n",
    "    else:\n",
    "        raise ValueError ('PokeDexNumber {} is not found in PokeDex'.format(pdNum))\n",
    "    \n",
    "set_prob(parsed_poke_info, 1)"
   ]
  },
  {
   "cell_type": "markdown",
   "metadata": {},
   "source": [
    "Let $p(\\text{power}) = \\exp \\left( \\frac{-\\text{power}}{\\text{range of power}}\\right) / \\text{number of pokemon} $"
   ]
  },
  {
   "cell_type": "code",
   "execution_count": 44,
   "metadata": {},
   "outputs": [
    {
     "data": {
      "image/png": "[encoded data removed]",
      "text/plain": [
       "<matplotlib.figure.Figure at 0xd4b7940>"
      ]
     },
     "metadata": {},
     "output_type": "display_data"
    }
   ],
   "source": [
    "x_val = np.arange(0,10,0.1)\n",
    "y_val = np.exp(-x_val)\n",
    "plt.plot(x_val, y_val)\n",
    "plt.title('Decaying Exponential Curve')\n",
    "plt.xlabel('$X$')\n",
    "plt.ylabel('$y$')\n",
    "plt.axis([0,10,0,1])\n",
    "plt.show()"
   ]
  },
  {
   "cell_type": "code",
   "execution_count": null,
   "metadata": {
    "collapsed": true
   },
   "outputs": [],
   "source": []
  }
 ],
 "metadata": {
  "anaconda-cloud": {},
  "hide_input": false,
  "kernelspec": {
   "display_name": "Python 2",
   "language": "python",
   "name": "python2"
  },
  "language_info": {
   "codemirror_mode": {
    "name": "ipython",
    "version": 2
   },
   "file_extension": ".py",
   "mimetype": "text/x-python",
   "name": "python",
   "nbconvert_exporter": "python",
   "pygments_lexer": "ipython2",
   "version": "2.7.13"
  }
 },
 "nbformat": 4,
 "nbformat_minor": 1
}
